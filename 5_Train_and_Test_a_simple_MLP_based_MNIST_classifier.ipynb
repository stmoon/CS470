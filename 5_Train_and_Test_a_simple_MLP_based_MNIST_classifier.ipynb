{
  "nbformat": 4,
  "nbformat_minor": 0,
  "metadata": {
    "colab": {
      "name": "5. Train and Test a simple MLP-based MNIST classifier.ipynb",
      "version": "0.3.2",
      "provenance": [],
      "collapsed_sections": [],
      "toc_visible": true,
      "include_colab_link": true
    },
    "kernelspec": {
      "name": "python3",
      "display_name": "Python 3"
    },
    "accelerator": "GPU"
  },
  "cells": [
    {
      "cell_type": "markdown",
      "metadata": {
        "id": "view-in-github",
        "colab_type": "text"
      },
      "source": [
        "<a href=\"https://colab.research.google.com/github/stmoon/CS470/blob/master/5_Train_and_Test_a_simple_MLP_based_MNIST_classifier.ipynb\" target=\"_parent\"><img src=\"https://colab.research.google.com/assets/colab-badge.svg\" alt=\"Open In Colab\"/></a>"
      ]
    },
    {
      "cell_type": "markdown",
      "metadata": {
        "id": "PRqPMAzzNipD",
        "colab_type": "text"
      },
      "source": [
        "Recommended materials\n",
        "====\n",
        "\n",
        "1. Pytorch Official Tutorial \\[[Link](https://pytorch.org/tutorials/)\\]\n",
        "2. DeepLearning Zero to All \\[[English](https://www.youtube.com/playlist?list=PLlMkM4tgfjnJ3I-dbhO9JTw7gNty6o_2m)\\] \\[[Korean](https://www.youtube.com/playlist?list=PLQ28Nx3M4JrhkqBVIXg-i5_CVVoS1UzAv)\\]\n",
        "3. Neural Network Programming - Deep Learning with Pytorch \\[[English](https://www.youtube.com/playlist?list=PLZbbT5o_s2xrfNyHZsM6ufI0iZENK9xgG)\\]"
      ]
    },
    {
      "cell_type": "markdown",
      "metadata": {
        "id": "d6E8jHQ7qQFk",
        "colab_type": "text"
      },
      "source": [
        "Pipeline for training and testing a simple MLP MNIST classifier\n",
        "===="
      ]
    },
    {
      "cell_type": "markdown",
      "metadata": {
        "id": "RO1mgGV_uOIK",
        "colab_type": "text"
      },
      "source": [
        "## Step 1: Connect to your Google Drive\n",
        "\n",
        "It is required if you want to save checkpoints and load them later on"
      ]
    },
    {
      "cell_type": "code",
      "metadata": {
        "id": "cLth6ZfXuSGT",
        "colab_type": "code",
        "outputId": "3b8a867b-95a6-4ffe-881e-ba36c287a21f",
        "colab": {
          "base_uri": "https://localhost:8080/",
          "height": 126
        }
      },
      "source": [
        "from google.colab import drive\n",
        "\n",
        "drive.mount('/gdrive')\n",
        "gdrive_root = '/gdrive/My Drive'"
      ],
      "execution_count": 0,
      "outputs": [
        {
          "output_type": "stream",
          "text": [
            "Go to this URL in a browser: https://accounts.google.com/o/oauth2/auth?client_id=947318989803-6bn6qk8qdgf4n4g3pfee6491hc0brc4i.apps.googleusercontent.com&redirect_uri=urn%3Aietf%3Awg%3Aoauth%3A2.0%3Aoob&scope=email%20https%3A%2F%2Fwww.googleapis.com%2Fauth%2Fdocs.test%20https%3A%2F%2Fwww.googleapis.com%2Fauth%2Fdrive%20https%3A%2F%2Fwww.googleapis.com%2Fauth%2Fdrive.photos.readonly%20https%3A%2F%2Fwww.googleapis.com%2Fauth%2Fpeopleapi.readonly&response_type=code\n",
            "\n",
            "Enter your authorization code:\n",
            "··········\n",
            "Mounted at /gdrive\n"
          ],
          "name": "stdout"
        }
      ]
    },
    {
      "cell_type": "markdown",
      "metadata": {
        "id": "RYwUwGf8qW1U",
        "colab_type": "text"
      },
      "source": [
        "## Step 2: Import modules"
      ]
    },
    {
      "cell_type": "code",
      "metadata": {
        "id": "3UtshANjqpy4",
        "colab_type": "code",
        "outputId": "6f58c39d-0763-4c25-c1a2-04d863435bdf",
        "colab": {
          "base_uri": "https://localhost:8080/",
          "height": 51
        }
      },
      "source": [
        "import os\n",
        "\n",
        "import torch\n",
        "import torch.optim as optim\n",
        "import torch.nn as nn\n",
        "import torch.nn.functional as F\n",
        "from torch.utils.data import DataLoader\n",
        "from torchvision import transforms\n",
        "from torchvision.datasets import MNIST\n",
        "\n",
        "# import TensorBoardColab\n",
        "!pip install -U tensorboardcolab\n",
        "from tensorboardcolab import TensorBoardColab\n",
        "\n",
        "# sometimes it is better to control randomness.\n",
        "torch.manual_seed(470)\n",
        "torch.cuda.manual_seed(470)"
      ],
      "execution_count": 0,
      "outputs": [
        {
          "output_type": "stream",
          "text": [
            "Requirement already up-to-date: tensorboardcolab in /usr/local/lib/python3.6/dist-packages (0.0.22)\n"
          ],
          "name": "stdout"
        },
        {
          "output_type": "stream",
          "text": [
            "Using TensorFlow backend.\n"
          ],
          "name": "stderr"
        }
      ]
    },
    {
      "cell_type": "markdown",
      "metadata": {
        "id": "0iJ-Q6sbq8c3",
        "colab_type": "text"
      },
      "source": [
        "## Step 3: Configure the experiments"
      ]
    },
    {
      "cell_type": "code",
      "metadata": {
        "id": "fA5jAy7Wq-E2",
        "colab_type": "code",
        "outputId": "da3a3046-f8b6-474b-868b-89e5d3581da3",
        "colab": {
          "base_uri": "https://localhost:8080/",
          "height": 68
        }
      },
      "source": [
        "# training & optimization hyper-parameters\n",
        "max_epoch = 10\n",
        "learning_rate = 0.0001\n",
        "batch_size = 200\n",
        "device = 'cuda'\n",
        "\n",
        "# model hyper-parameters\n",
        "input_dim = 784 # 28x28=784\n",
        "hidden_dim = 512\n",
        "output_dim = 10 \n",
        "\n",
        "# initialize tensorboard for visualization\n",
        "# Note : click the Tensorboard link to see the visualization of training/testing results\n",
        "tbc = TensorBoardColab()"
      ],
      "execution_count": 0,
      "outputs": [
        {
          "output_type": "stream",
          "text": [
            "Wait for 8 seconds...\n",
            "TensorBoard link:\n",
            "https://45d2e5d3.ngrok.io\n"
          ],
          "name": "stdout"
        }
      ]
    },
    {
      "cell_type": "markdown",
      "metadata": {
        "id": "2tZt60aMrQ1g",
        "colab_type": "text"
      },
      "source": [
        "## Step 4: Construct data pipeline\n",
        "\n",
        "**`torchvision.datasets.MNIST`** will automatically construct **`MNIST`** dataset."
      ]
    },
    {
      "cell_type": "code",
      "metadata": {
        "id": "aHbtV46LrXOF",
        "colab_type": "code",
        "colab": {}
      },
      "source": [
        "data_dir = os.path.join(gdrive_root, 'my_data')\n",
        "\n",
        "transform = transforms.ToTensor()\n",
        "\n",
        "train_dataset = MNIST(data_dir, train=True, download=True, transform=transform)\n",
        "train_dataloader = DataLoader(train_dataset, batch_size=batch_size, shuffle=True, drop_last=True)\n",
        "\n",
        "test_dataset = MNIST(data_dir, train=False, download=True, transform=transform)\n",
        "test_dataloader = DataLoader(test_dataset, batch_size=batch_size, shuffle=False, drop_last=False)"
      ],
      "execution_count": 0,
      "outputs": []
    },
    {
      "cell_type": "markdown",
      "metadata": {
        "id": "6G_dWd-6rwWb",
        "colab_type": "text"
      },
      "source": [
        "## Step 5: Construct a neural network builder"
      ]
    },
    {
      "cell_type": "code",
      "metadata": {
        "id": "FX_wne0Vr1E5",
        "colab_type": "code",
        "colab": {}
      },
      "source": [
        "class MyClassifier(nn.Module):\n",
        "  def __init__(self, input_dim=784, hidden_dim=512, output_dim=10):\n",
        "    super(MyClassifier, self).__init__()\n",
        "    self.layers = nn.Sequential(\n",
        "      nn.Linear(input_dim, hidden_dim),\n",
        "      nn.ReLU(),\n",
        "      nn.Linear(hidden_dim, hidden_dim),\n",
        "      nn.ReLU(),\n",
        "      nn.Linear(hidden_dim, hidden_dim),\n",
        "      nn.ReLU(),\n",
        "      nn.Linear(hidden_dim, output_dim),\n",
        "    )\n",
        "    \n",
        "  def forward(self, x):\n",
        "    batch_size = x.size(0)\n",
        "    x = x.view(batch_size, -1)\n",
        "    outputs = self.layers(x)\n",
        "    return outputs"
      ],
      "execution_count": 0,
      "outputs": []
    },
    {
      "cell_type": "markdown",
      "metadata": {
        "id": "YpA3xhjMspvA",
        "colab_type": "text"
      },
      "source": [
        "## Step 6: Initialize the network and optimizer"
      ]
    },
    {
      "cell_type": "code",
      "metadata": {
        "id": "XP111gW0s8aH",
        "colab_type": "code",
        "colab": {}
      },
      "source": [
        "my_classifier = MyClassifier(input_dim, hidden_dim, output_dim)\n",
        "my_classifier = my_classifier.to(device)\n",
        "\n",
        "optimizer = optim.Adam(my_classifier.parameters(), lr=learning_rate)\n"
      ],
      "execution_count": 0,
      "outputs": []
    },
    {
      "cell_type": "markdown",
      "metadata": {
        "id": "8lAQeXmjsILS",
        "colab_type": "text"
      },
      "source": [
        "## Step 7: Load pre-trained weights if exist"
      ]
    },
    {
      "cell_type": "code",
      "metadata": {
        "id": "hFLNZxaBsHUl",
        "colab_type": "code",
        "outputId": "d3dfda73-ae8a-4d85-a659-4c38465f3be1",
        "colab": {
          "base_uri": "https://localhost:8080/",
          "height": 51
        }
      },
      "source": [
        "ckpt_dir = os.path.join(gdrive_root, 'checkpoints')\n",
        "if not os.path.exists(ckpt_dir):\n",
        "  os.makedirs(ckpt_dir)\n",
        "  \n",
        "ckpt_path = os.path.join(ckpt_dir, 'lastest.pt')\n",
        "if os.path.exists(ckpt_path):\n",
        "  ckpt = torch.load(ckpt_path)\n",
        "  best_acc = ckpt['best_acc']\n",
        "  my_classifier.load_state_dict(ckpt['my_classifier'])\n",
        "  optimizer.load_state_dict(ckpt['optimizer'])\n",
        "  print('checkpoint is loaded !')\n",
        "  print('current best accuracy : %.2f' % best_acc)\n",
        "else:\n",
        "  best_acc = 0"
      ],
      "execution_count": 0,
      "outputs": [
        {
          "output_type": "stream",
          "text": [
            "checkpoint is loaded !\n",
            "current best accuracy : 0.97\n"
          ],
          "name": "stdout"
        }
      ]
    },
    {
      "cell_type": "markdown",
      "metadata": {
        "id": "Z1t7n6yttNEc",
        "colab_type": "text"
      },
      "source": [
        "## Step 8: Train the network\n",
        "\n",
        "Note : It would be better to save checkpoints periodically, otherwise you'll lose everything you've trained if the session is recycled."
      ]
    },
    {
      "cell_type": "code",
      "metadata": {
        "id": "9vczdKbytV38",
        "colab_type": "code",
        "outputId": "9812e9ea-e101-418f-badb-d17a1505c21d",
        "colab": {
          "base_uri": "https://localhost:8080/",
          "height": 779
        }
      },
      "source": [
        "it = 0\n",
        "train_losses = []\n",
        "test_losses = []\n",
        "for epoch in range(max_epoch):\n",
        "  # train phase\n",
        "  for inputs, labels in train_dataloader:\n",
        "    it += 1\n",
        "    \n",
        "    # load data to the GPU.\n",
        "    inputs = inputs.to(device)\n",
        "    labels = labels.to(device)\n",
        "    \n",
        "    # feed data into the network and get outputs.\n",
        "    logits = my_classifier(inputs)\n",
        "    \n",
        "    # calculate loss\n",
        "    # Note: `F.cross_entropy` function receives logits, or pre-softmax outputs, rather than final probability scores.\n",
        "    loss = F.cross_entropy(logits, labels)\n",
        "    \n",
        "    # Note: You should flush out gradients computed at the previous step before computing gradients at the current step. \n",
        "    #       Otherwise, gradients will accumulate.\n",
        "    optimizer.zero_grad()\n",
        "    \n",
        "    # backprogate loss.\n",
        "    loss.backward()\n",
        "    \n",
        "    # update the weights in the network.\n",
        "    optimizer.step()\n",
        "    \n",
        "    # calculate accuracy.\n",
        "    acc = (logits.argmax(dim=1) == labels).float().mean()\n",
        "    \n",
        "    if it % 200 == 0:\n",
        "      tbc.save_value('Loss', 'train_loss', it, loss.item())\n",
        "      print('[epoch:{}, iteration:{}] train loss : {:.4f} train accuracy : {:.4f}'.format(epoch, it, loss.item(), acc.item()))\n",
        "    \n",
        "  # save losses in a list so that we can visualize them later.\n",
        "  train_losses.append(loss.item())  \n",
        "    \n",
        "  # test phase\n",
        "  n = 0.\n",
        "  test_loss = 0.\n",
        "  test_acc = 0.\n",
        "  for test_inputs, test_labels in test_dataloader:\n",
        "    test_inputs = test_inputs.to(device)\n",
        "    test_labels = test_labels.to(device)\n",
        "    \n",
        "    logits = my_classifier(test_inputs)\n",
        "    test_loss += F.cross_entropy(logits, test_labels, reduction='sum')\n",
        "    test_acc += (logits.argmax(dim=1) == test_labels).float().sum()\n",
        "    n += inputs.size(0)\n",
        "    \n",
        "  test_loss /= n\n",
        "  test_acc /= n\n",
        "  test_losses.append(test_loss.item())\n",
        "  tbc.save_value('Loss', 'test_loss', it, test_loss.item())\n",
        "  print('[epoch:{}, iteration:{}] test_loss : {:.4f} test accuracy : {:.4f}'.format(epoch, it, test_loss.item(), test_acc.item())) \n",
        "  \n",
        "  tbc.flush_line('train_loss')\n",
        "  tbc.flush_line('test_loss')\n",
        "  \n",
        "  # save checkpoint whenever there is improvement in performance\n",
        "  if test_acc > best_acc:\n",
        "    best_acc = test_acc\n",
        "    # Note: optimizer also has states ! don't forget to save them as well.\n",
        "    ckpt = {'my_classifier':my_classifier.state_dict(),\n",
        "            'optimizer':optimizer.state_dict(),\n",
        "            'best_acc':best_acc}\n",
        "    torch.save(ckpt, ckpt_path)\n",
        "    print('checkpoint is saved !')\n",
        "    \n",
        "tbc.close()"
      ],
      "execution_count": 0,
      "outputs": [
        {
          "output_type": "stream",
          "text": [
            "WARNING:tensorflow:From /usr/local/lib/python3.6/dist-packages/tensorboardcolab/core.py:49: The name tf.summary.FileWriter is deprecated. Please use tf.compat.v1.summary.FileWriter instead.\n",
            "\n",
            "WARNING:tensorflow:From /usr/local/lib/python3.6/dist-packages/tensorboardcolab/core.py:101: The name tf.Summary is deprecated. Please use tf.compat.v1.Summary instead.\n",
            "\n",
            "[epoch:0, iteration:200] train loss : 0.0481 train accuracy : 0.9900\n",
            "[epoch:0, iteration:300] test_loss : 0.0775 test accuracy : 0.9761\n",
            "checkpoint is saved !\n",
            "[epoch:1, iteration:400] train loss : 0.0237 train accuracy : 0.9950\n",
            "[epoch:1, iteration:600] train loss : 0.0338 train accuracy : 0.9900\n",
            "[epoch:1, iteration:600] test_loss : 0.0750 test accuracy : 0.9759\n",
            "[epoch:2, iteration:800] train loss : 0.0369 train accuracy : 0.9800\n",
            "[epoch:2, iteration:900] test_loss : 0.0744 test accuracy : 0.9764\n",
            "checkpoint is saved !\n",
            "[epoch:3, iteration:1000] train loss : 0.0123 train accuracy : 1.0000\n",
            "[epoch:3, iteration:1200] train loss : 0.0309 train accuracy : 0.9900\n",
            "[epoch:3, iteration:1200] test_loss : 0.0709 test accuracy : 0.9771\n",
            "checkpoint is saved !\n",
            "[epoch:4, iteration:1400] train loss : 0.0342 train accuracy : 0.9950\n",
            "[epoch:4, iteration:1500] test_loss : 0.0761 test accuracy : 0.9762\n",
            "[epoch:5, iteration:1600] train loss : 0.0281 train accuracy : 0.9950\n",
            "[epoch:5, iteration:1800] train loss : 0.0255 train accuracy : 0.9900\n",
            "[epoch:5, iteration:1800] test_loss : 0.0683 test accuracy : 0.9792\n",
            "checkpoint is saved !\n",
            "[epoch:6, iteration:2000] train loss : 0.0240 train accuracy : 0.9900\n",
            "[epoch:6, iteration:2100] test_loss : 0.0721 test accuracy : 0.9782\n",
            "[epoch:7, iteration:2200] train loss : 0.0361 train accuracy : 0.9900\n",
            "[epoch:7, iteration:2400] train loss : 0.0096 train accuracy : 1.0000\n",
            "[epoch:7, iteration:2400] test_loss : 0.0725 test accuracy : 0.9781\n",
            "[epoch:8, iteration:2600] train loss : 0.0465 train accuracy : 0.9850\n",
            "[epoch:8, iteration:2700] test_loss : 0.0771 test accuracy : 0.9775\n",
            "[epoch:9, iteration:2800] train loss : 0.0193 train accuracy : 0.9950\n",
            "[epoch:9, iteration:3000] train loss : 0.0210 train accuracy : 0.9950\n",
            "[epoch:9, iteration:3000] test_loss : 0.0775 test accuracy : 0.9773\n"
          ],
          "name": "stdout"
        },
        {
          "output_type": "error",
          "ename": "NameError",
          "evalue": "ignored",
          "traceback": [
            "\u001b[0;31m---------------------------------------------------------------------------\u001b[0m",
            "\u001b[0;31mNameError\u001b[0m                                 Traceback (most recent call last)",
            "\u001b[0;32m<ipython-input-9-67daa273c789>\u001b[0m in \u001b[0;36m<module>\u001b[0;34m()\u001b[0m\n\u001b[1;32m     70\u001b[0m     \u001b[0mprint\u001b[0m\u001b[0;34m(\u001b[0m\u001b[0;34m'checkpoint is saved !'\u001b[0m\u001b[0;34m)\u001b[0m\u001b[0;34m\u001b[0m\u001b[0;34m\u001b[0m\u001b[0m\n\u001b[1;32m     71\u001b[0m \u001b[0;34m\u001b[0m\u001b[0m\n\u001b[0;32m---> 72\u001b[0;31m \u001b[0mtb\u001b[0m\u001b[0;34m.\u001b[0m\u001b[0mclose\u001b[0m\u001b[0;34m(\u001b[0m\u001b[0;34m)\u001b[0m\u001b[0;34m\u001b[0m\u001b[0;34m\u001b[0m\u001b[0m\n\u001b[0m",
            "\u001b[0;31mNameError\u001b[0m: name 'tb' is not defined"
          ]
        }
      ]
    },
    {
      "cell_type": "markdown",
      "metadata": {
        "id": "ECu3yS0OvfoR",
        "colab_type": "text"
      },
      "source": [
        "## Step 9: Visualize and analyze the results"
      ]
    },
    {
      "cell_type": "code",
      "metadata": {
        "id": "G89sqVp-vLRy",
        "colab_type": "code",
        "outputId": "c899d593-8310-45e5-b5ef-e4cd44f7abaf",
        "colab": {
          "base_uri": "https://localhost:8080/",
          "height": 287
        }
      },
      "source": [
        "import matplotlib.pyplot as plt\n",
        "\n",
        "plt.plot(train_losses, label='train loss')\n",
        "plt.plot(test_losses, label='test loss')\n",
        "plt.legend()"
      ],
      "execution_count": 0,
      "outputs": [
        {
          "output_type": "execute_result",
          "data": {
            "text/plain": [
              "<matplotlib.legend.Legend at 0x7f0ff152c278>"
            ]
          },
          "metadata": {
            "tags": []
          },
          "execution_count": 9
        },
        {
          "output_type": "display_data",
          "data": {
            "image/png": "[encoded data removed]",
            "text/plain": [
              "<Figure size 432x288 with 1 Axes>"
            ]
          },
          "metadata": {
            "tags": []
          }
        }
      ]
    },
    {
      "cell_type": "code",
      "metadata": {
        "id": "KHjD9SGrvhzc",
        "colab_type": "code",
        "outputId": "cc7e9789-4de6-4b00-b9a8-03bde2bd1bcf",
        "colab": {
          "base_uri": "https://localhost:8080/",
          "height": 179
        }
      },
      "source": [
        "import random\n",
        "from PIL import Image\n",
        "\n",
        "num_test_samples = len(test_dataset)\n",
        "random_idx = random.randint(0, num_test_samples)\n",
        "\n",
        "topil = transforms.transforms.ToPILImage()\n",
        "test_input, test_label = test_dataset.__getitem__(random_idx)\n",
        "test_prediction = F.softmax(my_classifier(test_input.unsqueeze(0).to(device)), dim=1).argmax().item()\n",
        "print('label : %i' % test_label)\n",
        "print('prediction : %i' % test_prediction)\n",
        "\n",
        "test_image = topil(test_input)\n",
        "test_image.resize((128, 128))"
      ],
      "execution_count": 0,
      "outputs": [
        {
          "output_type": "stream",
          "text": [
            "label : 1\n",
            "prediction : 1\n"
          ],
          "name": "stdout"
        },
        {
          "output_type": "execute_result",
          "data": {
            "image/png": "[encoded data removed]",
            "text/plain": [
              "<PIL.Image.Image image mode=L size=128x128 at 0x7F15E912E198>"
            ]
          },
          "metadata": {
            "tags": []
          },
          "execution_count": 16
        }
      ]
    }
  ]
}
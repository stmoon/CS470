{
  "nbformat": 4,
  "nbformat_minor": 0,
  "metadata": {
    "colab": {
      "name": "CS470 Assignment #1: CNN classification with Cifar10_v3",
      "provenance": [],
      "collapsed_sections": [],
      "toc_visible": true,
      "include_colab_link": true
    },
    "kernelspec": {
      "name": "python3",
      "display_name": "Python 3"
    },
    "accelerator": "GPU"
  },
  "cells": [
    {
      "cell_type": "markdown",
      "metadata": {
        "id": "view-in-github",
        "colab_type": "text"
      },
      "source": [
        "<a href=\"https://colab.research.google.com/github/stmoon/CS470/blob/master/CS470_Assignment_1_CNN_classification_with_Cifar10_v3.ipynb\" target=\"_parent\"><img src=\"https://colab.research.google.com/assets/colab-badge.svg\" alt=\"Open In Colab\"/></a>"
      ]
    },
    {
      "cell_type": "markdown",
      "metadata": {
        "id": "PRqPMAzzNipD",
        "colab_type": "text"
      },
      "source": [
        "CS470 Assignment #1: CNN classification with Cifar10\n",
        "====\n"
      ]
    },
    {
      "cell_type": "markdown",
      "metadata": {
        "id": "RO1mgGV_uOIK",
        "colab_type": "text"
      },
      "source": [
        "## Step 1: Connect to your Google Drive\n",
        "\n",
        "It is required if you want to save checkpoints and load them later on.\n",
        "\n"
      ]
    },
    {
      "cell_type": "code",
      "metadata": {
        "id": "cLth6ZfXuSGT",
        "colab_type": "code",
        "outputId": "6bf3675c-a5b0-4ace-d523-8c059238343d",
        "colab": {
          "base_uri": "https://localhost:8080/",
          "height": 123
        }
      },
      "source": [
        "from google.colab import drive\n",
        "\n",
        "drive.mount('/gdrive')\n",
        "gdrive_root = '/gdrive/My Drive'"
      ],
      "execution_count": 1,
      "outputs": [
        {
          "output_type": "stream",
          "text": [
            "Go to this URL in a browser: https://accounts.google.com/o/oauth2/auth?client_id=947318989803-6bn6qk8qdgf4n4g3pfee6491hc0brc4i.apps.googleusercontent.com&redirect_uri=urn%3Aietf%3Awg%3Aoauth%3A2.0%3Aoob&scope=email%20https%3A%2F%2Fwww.googleapis.com%2Fauth%2Fdocs.test%20https%3A%2F%2Fwww.googleapis.com%2Fauth%2Fdrive%20https%3A%2F%2Fwww.googleapis.com%2Fauth%2Fdrive.photos.readonly%20https%3A%2F%2Fwww.googleapis.com%2Fauth%2Fpeopleapi.readonly&response_type=code\n",
            "\n",
            "Enter your authorization code:\n",
            "··········\n",
            "Mounted at /gdrive\n"
          ],
          "name": "stdout"
        }
      ]
    },
    {
      "cell_type": "markdown",
      "metadata": {
        "id": "RYwUwGf8qW1U",
        "colab_type": "text"
      },
      "source": [
        "## Step 2: Import modules"
      ]
    },
    {
      "cell_type": "code",
      "metadata": {
        "id": "3UtshANjqpy4",
        "colab_type": "code",
        "outputId": "c369457c-192f-4923-a84e-fcb105075712",
        "colab": {
          "base_uri": "https://localhost:8080/",
          "height": 51
        }
      },
      "source": [
        "import os\n",
        "\n",
        "import torch\n",
        "import torch.optim as optim\n",
        "import torch.nn as nn\n",
        "import torch.nn.functional as F\n",
        "from torch.utils.data import DataLoader\n",
        "import torchvision\n",
        "from torchvision import transforms\n",
        "\n",
        "!pip install -U tensorboardcolab\n",
        "from tensorboardcolab import TensorBoardColab\n",
        "\n",
        "torch.manual_seed(470)\n",
        "torch.cuda.manual_seed(470)"
      ],
      "execution_count": 2,
      "outputs": [
        {
          "output_type": "stream",
          "text": [
            "Requirement already up-to-date: tensorboardcolab in /usr/local/lib/python3.6/dist-packages (0.0.22)\n"
          ],
          "name": "stdout"
        },
        {
          "output_type": "stream",
          "text": [
            "Using TensorFlow backend.\n"
          ],
          "name": "stderr"
        }
      ]
    },
    {
      "cell_type": "markdown",
      "metadata": {
        "id": "0iJ-Q6sbq8c3",
        "colab_type": "text"
      },
      "source": [
        "## Step 3: Configure the experiments"
      ]
    },
    {
      "cell_type": "code",
      "metadata": {
        "id": "fA5jAy7Wq-E2",
        "colab_type": "code",
        "outputId": "840060fb-fa11-423a-b92a-f1ec40763743",
        "colab": {
          "base_uri": "https://localhost:8080/",
          "height": 68
        }
      },
      "source": [
        "# training & optimization hyper-parameters\n",
        "max_epoch = 200\n",
        "learning_rate = 0.001\n",
        "batch_size = 20000\n",
        "device = 'cuda'\n",
        "\n",
        "# model hyper-parameters\n",
        "output_dim = 10 \n",
        "\n",
        "# Boolean value to select training process\n",
        "training_process = True\n",
        "\n",
        "# initialize tensorboard for visualization\n",
        "# Note : click the Tensorboard link to see the visualization of training/testing results\n",
        "tbc = TensorBoardColab()"
      ],
      "execution_count": 3,
      "outputs": [
        {
          "output_type": "stream",
          "text": [
            "Wait for 8 seconds...\n",
            "TensorBoard link:\n",
            "https://3d837a87.ngrok.io\n"
          ],
          "name": "stdout"
        }
      ]
    },
    {
      "cell_type": "markdown",
      "metadata": {
        "id": "2tZt60aMrQ1g",
        "colab_type": "text"
      },
      "source": [
        "## Step 4: Construct data pipeline\n",
        "\n",
        "**`torchvision.datasets.CIFAR10`** will automatically construct **`Cifar10`** dataset."
      ]
    },
    {
      "cell_type": "code",
      "metadata": {
        "id": "aHbtV46LrXOF",
        "colab_type": "code",
        "outputId": "134b6232-cfac-4b44-a794-facbd87e58fd",
        "colab": {
          "base_uri": "https://localhost:8080/",
          "height": 51
        }
      },
      "source": [
        "data_dir = os.path.join(gdrive_root, 'my_data')\n",
        "\n",
        "transform = transforms.Compose(\n",
        "    [transforms.RandomCrop(32, padding=4),\n",
        "     transforms.RandomHorizontalFlip(),\n",
        "     transforms.ToTensor(),\n",
        "     transforms.Normalize((0.4914, 0.4822, 0.4465), (0.2023, 0.1994, 0.2010))\n",
        "    ])\n",
        "#      transforms.Normalize((0.5, 0.5, 0.5), (0.5, 0.5, 0.5))])\n",
        "\n",
        "train_dataset = torchvision.datasets.CIFAR10(root=data_dir, train=True, download=True, transform=transform)\n",
        "train_dataloader = torch.utils.data.DataLoader(train_dataset, batch_size=200, shuffle=True, num_workers=2)\n",
        "\n",
        "test_dataset = torchvision.datasets.CIFAR10(root=data_dir, train=False, download=True, transform=transform)\n",
        "test_dataloader = torch.utils.data.DataLoader(test_dataset, batch_size=200, shuffle=False, num_workers=2)\n",
        "\n",
        "classes = ('plane', 'car', 'bird', 'cat', 'deer', 'dog', 'frog', 'horse', 'ship', 'truck')"
      ],
      "execution_count": 4,
      "outputs": [
        {
          "output_type": "stream",
          "text": [
            "Files already downloaded and verified\n",
            "Files already downloaded and verified\n"
          ],
          "name": "stdout"
        }
      ]
    },
    {
      "cell_type": "markdown",
      "metadata": {
        "id": "6G_dWd-6rwWb",
        "colab_type": "text"
      },
      "source": [
        "## Step 5: Construct a neural network builder\n",
        "\n",
        "We serve the baseline CNN model which is supported on Pytorch tutorial: https://colab.research.google.com/github/pytorch/tutorials/blob/gh-pages/_downloads/cifar10_tutorial.ipynb#scrollTo=c1E1b7-igUcR\n",
        "\n",
        "### (You have to compare your own CNN model's test accuracy with the baseline CNN model and explain why your own model's test accuracy is higher than the basline.)"
      ]
    },
    {
      "cell_type": "code",
      "metadata": {
        "id": "FX_wne0Vr1E5",
        "colab_type": "code",
        "colab": {}
      },
      "source": [
        "import math\n",
        "\n",
        "import torch\n",
        "import torch.nn as nn\n",
        "import torch.nn.functional as F\n",
        "\n",
        "\n",
        "class Bottleneck(nn.Module):\n",
        "    def __init__(self, in_planes, growth_rate):\n",
        "        super(Bottleneck, self).__init__()\n",
        "        self.bn1 = nn.BatchNorm2d(in_planes)\n",
        "        self.conv1 = nn.Conv2d(in_planes, 4*growth_rate, kernel_size=1, bias=False)\n",
        "        self.bn2 = nn.BatchNorm2d(4*growth_rate)\n",
        "        self.conv2 = nn.Conv2d(4*growth_rate, growth_rate, kernel_size=3, padding=1, bias=False)\n",
        "\n",
        "    def forward(self, x):\n",
        "        out = self.conv1(F.relu(self.bn1(x)))\n",
        "        out = self.conv2(F.relu(self.bn2(out)))\n",
        "        out = torch.cat([out,x], 1)\n",
        "        return out\n",
        "\n",
        "\n",
        "class Transition(nn.Module):\n",
        "    def __init__(self, in_planes, out_planes):\n",
        "        super(Transition, self).__init__()\n",
        "        self.bn = nn.BatchNorm2d(in_planes)\n",
        "        self.conv = nn.Conv2d(in_planes, out_planes, kernel_size=1, bias=False)\n",
        "\n",
        "    def forward(self, x):\n",
        "        out = self.conv(F.relu(self.bn(x)))\n",
        "        out = F.avg_pool2d(out, 2)\n",
        "        return out\n",
        "\n",
        "\n",
        "class MyDenseNet(nn.Module):\n",
        "    def __init__(self, block, nblocks, growth_rate=12, reduction=0.5, num_classes=10):\n",
        "        super(MyDenseNet, self).__init__()\n",
        "        self.growth_rate = growth_rate\n",
        "\n",
        "        num_planes = 2*growth_rate\n",
        "        self.conv1 = nn.Conv2d(3, num_planes, kernel_size=3, padding=1, bias=False)\n",
        "\n",
        "        self.dense1 = self._make_dense_layers(block, num_planes, nblocks[0])\n",
        "        num_planes += nblocks[0]*growth_rate\n",
        "        out_planes = int(math.floor(num_planes*reduction))\n",
        "        self.trans1 = Transition(num_planes, out_planes)\n",
        "        num_planes = out_planes\n",
        "\n",
        "        self.dense2 = self._make_dense_layers(block, num_planes, nblocks[1])\n",
        "        num_planes += nblocks[1]*growth_rate\n",
        "        out_planes = int(math.floor(num_planes*reduction))\n",
        "        self.trans2 = Transition(num_planes, out_planes)\n",
        "        num_planes = out_planes\n",
        "\n",
        "        self.dense3 = self._make_dense_layers(block, num_planes, nblocks[2])\n",
        "        num_planes += nblocks[2]*growth_rate\n",
        "        out_planes = int(math.floor(num_planes*reduction))\n",
        "        self.trans3 = Transition(num_planes, out_planes)\n",
        "        num_planes = out_planes\n",
        "\n",
        "        self.dense4 = self._make_dense_layers(block, num_planes, nblocks[3])\n",
        "        num_planes += nblocks[3]*growth_rate\n",
        "\n",
        "        self.bn = nn.BatchNorm2d(num_planes)\n",
        "        self.linear = nn.Linear(num_planes, num_classes)\n",
        "\n",
        "    def _make_dense_layers(self, block, in_planes, nblock):\n",
        "        layers = []\n",
        "        for i in range(nblock):\n",
        "            layers.append(block(in_planes, self.growth_rate))\n",
        "            in_planes += self.growth_rate\n",
        "        return nn.Sequential(*layers)\n",
        "\n",
        "    def forward(self, x):\n",
        "        out = self.conv1(x)\n",
        "        out = self.trans1(self.dense1(out))\n",
        "        out = self.trans2(self.dense2(out))\n",
        "        out = self.trans3(self.dense3(out))\n",
        "        out = self.dense4(out)\n",
        "        out = F.avg_pool2d(F.relu(self.bn(out)), 4)\n",
        "        out = out.view(out.size(0), -1)\n",
        "        out = self.linear(out)\n",
        "        return out\n",
        "\n",
        "def DenseNet121():\n",
        "    return DenseNet(Bottleneck, [6,12,24,16], growth_rate=32)\n",
        "\n",
        "def DenseNet169():\n",
        "    return DenseNet(Bottleneck, [6,12,32,32], growth_rate=32)\n",
        "\n",
        "def DenseNet201():\n",
        "    return DenseNet(Bottleneck, [6,12,48,32], growth_rate=32)\n",
        "\n",
        "def DenseNet161():\n",
        "    return DenseNet(Bottleneck, [6,12,36,24], growth_rate=48)\n",
        "\n",
        "def densenet_cifar():\n",
        "    return MyDenseNet(Bottleneck, [6,12,24,16], growth_rate=12)\n"
      ],
      "execution_count": 0,
      "outputs": []
    },
    {
      "cell_type": "markdown",
      "metadata": {
        "id": "YpA3xhjMspvA",
        "colab_type": "text"
      },
      "source": [
        "## Step 6: Initialize the network and optimizer\n",
        "\n",
        "If you want to train modularized neural network in Step 5B, please use 'MyClassifier2' as 'my_classifier'. It is written as a comment now."
      ]
    },
    {
      "cell_type": "code",
      "metadata": {
        "id": "XP111gW0s8aH",
        "colab_type": "code",
        "outputId": "5767f531-2c15-4af7-c801-7369383fefdd",
        "colab": {
          "base_uri": "https://localhost:8080/",
          "height": 34
        }
      },
      "source": [
        "device = 'cuda'\n",
        "my_classifier = densenet_cifar()\n",
        "my_classifier = my_classifier.to(device)\n",
        "\n",
        "def count_parameters(model):\n",
        "    return sum(p.numel() for p in model.parameters() if p.requires_grad)\n",
        " \n",
        "\n",
        "# Print your neural network structure\n",
        "# print(my_classifier)\n",
        "print('parameter size : ', count_parameters(my_classifier))\n",
        "\n",
        "optimizer = optim.Adam(my_classifier.parameters(), lr=learning_rate)\n"
      ],
      "execution_count": 6,
      "outputs": [
        {
          "output_type": "stream",
          "text": [
            "parameter size :  1000618\n"
          ],
          "name": "stdout"
        }
      ]
    },
    {
      "cell_type": "markdown",
      "metadata": {
        "id": "8lAQeXmjsILS",
        "colab_type": "text"
      },
      "source": [
        "## Step 7: Load pre-trained weights if exist\n",
        "\n",
        "- **For your sumbmission you have to store the trained model as a checkpoint.**\n",
        "- Please do not erase this step.\n",
        "- If you want to modify this step, please be careful.\n",
        "- After training please confirm that your checkpoint is correctly stored and re-loaded."
      ]
    },
    {
      "cell_type": "code",
      "metadata": {
        "id": "hFLNZxaBsHUl",
        "colab_type": "code",
        "outputId": "b9d5bd29-364d-4404-a68e-022accf3e11d",
        "colab": {
          "base_uri": "https://localhost:8080/",
          "height": 51
        }
      },
      "source": [
        "ckpt_dir = os.path.join(gdrive_root, 'checkpoints')\n",
        "if not os.path.exists(ckpt_dir):\n",
        "  os.makedirs(ckpt_dir)\n",
        "  \n",
        "best_acc = 0.\n",
        "ckpt_path = os.path.join(ckpt_dir, 'lastest.pt')\n",
        "if os.path.exists(ckpt_path):\n",
        "  ckpt = torch.load(ckpt_path)\n",
        "  try:\n",
        "    my_classifier.load_state_dict(ckpt['my_classifier'])\n",
        "    optimizer.load_state_dict(ckpt['optimizer'])\n",
        "    best_acc = ckpt['best_acc']\n",
        "  except RuntimeError as e:\n",
        "      print('wrong checkpoint')\n",
        "  else:    \n",
        "    print('checkpoint is loaded !')\n",
        "    print('current best accuracy : %.2f' % best_acc)"
      ],
      "execution_count": 7,
      "outputs": [
        {
          "output_type": "stream",
          "text": [
            "checkpoint is loaded !\n",
            "current best accuracy : 0.91\n"
          ],
          "name": "stdout"
        }
      ]
    },
    {
      "cell_type": "code",
      "metadata": {
        "id": "lOHGB0Bcz5aA",
        "colab_type": "code",
        "outputId": "fbcce27f-8889-4f40-e3cd-3a94f364d529",
        "colab": {
          "base_uri": "https://localhost:8080/",
          "height": 291
        }
      },
      "source": [
        "  !nvidia-smi"
      ],
      "execution_count": 8,
      "outputs": [
        {
          "output_type": "stream",
          "text": [
            "Sun Sep 22 23:51:25 2019       \n",
            "+-----------------------------------------------------------------------------+\n",
            "| NVIDIA-SMI 430.40       Driver Version: 418.67       CUDA Version: 10.1     |\n",
            "|-------------------------------+----------------------+----------------------+\n",
            "| GPU  Name        Persistence-M| Bus-Id        Disp.A | Volatile Uncorr. ECC |\n",
            "| Fan  Temp  Perf  Pwr:Usage/Cap|         Memory-Usage | GPU-Util  Compute M. |\n",
            "|===============================+======================+======================|\n",
            "|   0  Tesla K80           Off  | 00000000:00:04.0 Off |                    0 |\n",
            "| N/A   34C    P0    58W / 149W |    360MiB / 11441MiB |      0%      Default |\n",
            "+-------------------------------+----------------------+----------------------+\n",
            "                                                                               \n",
            "+-----------------------------------------------------------------------------+\n",
            "| Processes:                                                       GPU Memory |\n",
            "|  GPU       PID   Type   Process name                             Usage      |\n",
            "|=============================================================================|\n",
            "+-----------------------------------------------------------------------------+\n"
          ],
          "name": "stdout"
        }
      ]
    },
    {
      "cell_type": "markdown",
      "metadata": {
        "id": "Z1t7n6yttNEc",
        "colab_type": "text"
      },
      "source": [
        "## Step 8: Train the network\n",
        "\n",
        "Note : It would be better to save checkpoints periodically, otherwise you'll lose everything you've trained if the session is recycled."
      ]
    },
    {
      "cell_type": "code",
      "metadata": {
        "id": "9vczdKbytV38",
        "colab_type": "code",
        "outputId": "3ab2b06a-6b90-4d1a-892a-b768689d8314",
        "colab": {
          "base_uri": "https://localhost:8080/",
          "height": 1000
        }
      },
      "source": [
        "if training_process:\n",
        "  it = 0\n",
        "  train_losses = []\n",
        "  test_losses = []\n",
        "  for epoch in range(max_epoch):\n",
        "    # train phase\n",
        "    my_classifier.train()\n",
        "    for inputs, labels in train_dataloader:\n",
        "      it += 1\n",
        "\n",
        "      # load data to the GPU.\n",
        "      inputs = inputs.to(device)\n",
        "      labels = labels.to(device)\n",
        "\n",
        "      # feed data into the network and get outputs.\n",
        "      logits = my_classifier(inputs)\n",
        "\n",
        "      # calculate loss\n",
        "      # Note: `F.cross_entropy` function receives logits, or pre-softmax outputs, rather than final probability scores.\n",
        "      loss = F.cross_entropy(logits, labels)\n",
        "\n",
        "      # Note: You should flush out gradients computed at the previous step before computing gradients at the current step. \n",
        "      #       Otherwise, gradients will accumulate.\n",
        "      optimizer.zero_grad()\n",
        "\n",
        "      # backprogate loss.\n",
        "      loss.backward()\n",
        "\n",
        "      # update the weights in the network.\n",
        "      optimizer.step()\n",
        "\n",
        "      # calculate accuracy.\n",
        "      acc = (logits.argmax(dim=1) == labels).float().mean()\n",
        "\n",
        "      if it % 200 == 0:\n",
        "        tbc.save_value('Loss', 'train_loss', it, loss.item())\n",
        "        tbc.save_value('Accuracy', 'train_acc', it, acc.item())\n",
        "        print('[epoch:{}, iteration:{}] train loss : {:.4f} train accuracy : {:.4f}'.format(epoch, it, loss.item(), acc.item()))\n",
        "\n",
        "    # save losses in a list so that we can visualize them later.\n",
        "    train_losses.append(loss)  \n",
        "\n",
        "    # test phase\n",
        "    n = 0.\n",
        "    test_loss = 0.\n",
        "    test_acc = 0.\n",
        "    my_classifier.eval()\n",
        "    for test_inputs, test_labels in test_dataloader:\n",
        "      test_inputs = test_inputs.to(device)\n",
        "      test_labels = test_labels.to(device)\n",
        "\n",
        "      logits = my_classifier(test_inputs)\n",
        "      test_loss += F.cross_entropy(logits, test_labels, reduction='sum').item()\n",
        "      test_acc += (logits.argmax(dim=1) == test_labels).float().sum().item()\n",
        "      n += test_inputs.size(0)\n",
        "\n",
        "    test_loss /= n\n",
        "    test_acc /= n\n",
        "    test_losses.append(test_loss)\n",
        "    tbc.save_value('Loss', 'test_loss', it, test_loss)\n",
        "    tbc.save_value('Accuracy', 'test_acc', it, test_acc)\n",
        "    print('[epoch:{}, iteration:{}] test_loss : {:.4f} test accuracy : {:.4f}'.format(epoch, it, test_loss, test_acc)) \n",
        "\n",
        "    tbc.flush_line('train_loss')\n",
        "    tbc.flush_line('test_loss')\n",
        "\n",
        "    # save checkpoint whenever there is improvement in performance\n",
        "    if test_acc > best_acc:\n",
        "      best_acc = test_acc\n",
        "      # Note: optimizer also has states ! don't forget to save them as well.\n",
        "      ckpt = {'my_classifier':my_classifier.state_dict(),\n",
        "              'optimizer':optimizer.state_dict(),\n",
        "              'best_acc':best_acc}\n",
        "      torch.save(ckpt, ckpt_path)\n",
        "      print('checkpoint is saved !')\n",
        "    \n",
        "tbc.close()"
      ],
      "execution_count": 9,
      "outputs": [
        {
          "output_type": "stream",
          "text": [
            "WARNING:tensorflow:From /usr/local/lib/python3.6/dist-packages/tensorboardcolab/core.py:49: The name tf.summary.FileWriter is deprecated. Please use tf.compat.v1.summary.FileWriter instead.\n",
            "\n",
            "WARNING:tensorflow:From /usr/local/lib/python3.6/dist-packages/tensorboardcolab/core.py:101: The name tf.Summary is deprecated. Please use tf.compat.v1.Summary instead.\n",
            "\n",
            "[epoch:0, iteration:200] train loss : 0.0607 train accuracy : 0.9700\n",
            "[epoch:0, iteration:250] test_loss : 0.3925 test accuracy : 0.9099\n",
            "checkpoint is saved !\n",
            "[epoch:1, iteration:400] train loss : 0.0371 train accuracy : 0.9900\n",
            "[epoch:1, iteration:500] test_loss : 0.4183 test accuracy : 0.9070\n",
            "[epoch:2, iteration:600] train loss : 0.0490 train accuracy : 0.9850\n",
            "[epoch:2, iteration:750] test_loss : 0.4534 test accuracy : 0.9077\n",
            "[epoch:3, iteration:800] train loss : 0.0077 train accuracy : 1.0000\n",
            "[epoch:3, iteration:1000] train loss : 0.0228 train accuracy : 0.9950\n",
            "[epoch:3, iteration:1000] test_loss : 0.4472 test accuracy : 0.9078\n",
            "[epoch:4, iteration:1200] train loss : 0.0371 train accuracy : 0.9900\n",
            "[epoch:4, iteration:1250] test_loss : 0.4648 test accuracy : 0.9053\n",
            "[epoch:5, iteration:1400] train loss : 0.0094 train accuracy : 1.0000\n",
            "[epoch:5, iteration:1500] test_loss : 0.4532 test accuracy : 0.9045\n",
            "[epoch:6, iteration:1600] train loss : 0.0234 train accuracy : 0.9950\n",
            "[epoch:6, iteration:1750] test_loss : 0.4679 test accuracy : 0.9055\n",
            "[epoch:7, iteration:1800] train loss : 0.0331 train accuracy : 0.9850\n",
            "[epoch:7, iteration:2000] train loss : 0.0138 train accuracy : 0.9900\n",
            "[epoch:7, iteration:2000] test_loss : 0.4789 test accuracy : 0.9072\n",
            "[epoch:8, iteration:2200] train loss : 0.0291 train accuracy : 0.9900\n",
            "[epoch:8, iteration:2250] test_loss : 0.4539 test accuracy : 0.9043\n",
            "[epoch:9, iteration:2400] train loss : 0.0133 train accuracy : 0.9900\n",
            "[epoch:9, iteration:2500] test_loss : 0.4488 test accuracy : 0.9103\n",
            "checkpoint is saved !\n",
            "[epoch:10, iteration:2600] train loss : 0.0184 train accuracy : 0.9950\n",
            "[epoch:10, iteration:2750] test_loss : 0.4613 test accuracy : 0.9078\n",
            "[epoch:11, iteration:2800] train loss : 0.0189 train accuracy : 0.9900\n",
            "[epoch:11, iteration:3000] train loss : 0.0441 train accuracy : 0.9850\n",
            "[epoch:11, iteration:3000] test_loss : 0.4721 test accuracy : 0.9068\n",
            "[epoch:12, iteration:3200] train loss : 0.0236 train accuracy : 0.9950\n",
            "[epoch:12, iteration:3250] test_loss : 0.5053 test accuracy : 0.9024\n",
            "[epoch:13, iteration:3400] train loss : 0.0119 train accuracy : 0.9950\n",
            "[epoch:13, iteration:3500] test_loss : 0.4772 test accuracy : 0.9044\n",
            "[epoch:14, iteration:3600] train loss : 0.0443 train accuracy : 0.9800\n",
            "[epoch:14, iteration:3750] test_loss : 0.4960 test accuracy : 0.9038\n",
            "[epoch:15, iteration:3800] train loss : 0.0392 train accuracy : 0.9900\n",
            "[epoch:15, iteration:4000] train loss : 0.0505 train accuracy : 0.9950\n",
            "[epoch:15, iteration:4000] test_loss : 0.4765 test accuracy : 0.9029\n",
            "[epoch:16, iteration:4200] train loss : 0.0311 train accuracy : 0.9900\n",
            "[epoch:16, iteration:4250] test_loss : 0.4760 test accuracy : 0.9083\n",
            "[epoch:17, iteration:4400] train loss : 0.0107 train accuracy : 0.9950\n",
            "[epoch:17, iteration:4500] test_loss : 0.4789 test accuracy : 0.9082\n",
            "[epoch:18, iteration:4600] train loss : 0.0226 train accuracy : 0.9900\n",
            "[epoch:18, iteration:4750] test_loss : 0.4668 test accuracy : 0.9070\n",
            "[epoch:19, iteration:4800] train loss : 0.0097 train accuracy : 1.0000\n",
            "[epoch:19, iteration:5000] train loss : 0.0106 train accuracy : 1.0000\n",
            "[epoch:19, iteration:5000] test_loss : 0.4840 test accuracy : 0.9046\n",
            "[epoch:20, iteration:5200] train loss : 0.0431 train accuracy : 0.9850\n",
            "[epoch:20, iteration:5250] test_loss : 0.4751 test accuracy : 0.9095\n",
            "[epoch:21, iteration:5400] train loss : 0.0196 train accuracy : 0.9950\n",
            "[epoch:21, iteration:5500] test_loss : 0.4922 test accuracy : 0.9054\n",
            "[epoch:22, iteration:5600] train loss : 0.0191 train accuracy : 0.9950\n",
            "[epoch:22, iteration:5750] test_loss : 0.4920 test accuracy : 0.9074\n",
            "[epoch:23, iteration:5800] train loss : 0.0584 train accuracy : 0.9850\n",
            "[epoch:23, iteration:6000] train loss : 0.0644 train accuracy : 0.9800\n",
            "[epoch:23, iteration:6000] test_loss : 0.4764 test accuracy : 0.9068\n",
            "[epoch:24, iteration:6200] train loss : 0.0183 train accuracy : 0.9950\n",
            "[epoch:24, iteration:6250] test_loss : 0.5012 test accuracy : 0.9057\n",
            "[epoch:25, iteration:6400] train loss : 0.0119 train accuracy : 0.9900\n",
            "[epoch:25, iteration:6500] test_loss : 0.5234 test accuracy : 0.9028\n",
            "[epoch:26, iteration:6600] train loss : 0.0297 train accuracy : 0.9850\n",
            "[epoch:26, iteration:6750] test_loss : 0.4873 test accuracy : 0.9070\n",
            "[epoch:27, iteration:6800] train loss : 0.0032 train accuracy : 1.0000\n",
            "[epoch:27, iteration:7000] train loss : 0.0135 train accuracy : 0.9950\n",
            "[epoch:27, iteration:7000] test_loss : 0.4845 test accuracy : 0.9075\n",
            "[epoch:28, iteration:7200] train loss : 0.0061 train accuracy : 1.0000\n",
            "[epoch:28, iteration:7250] test_loss : 0.5001 test accuracy : 0.9010\n",
            "[epoch:29, iteration:7400] train loss : 0.0436 train accuracy : 0.9850\n",
            "[epoch:29, iteration:7500] test_loss : 0.4869 test accuracy : 0.9060\n",
            "[epoch:30, iteration:7600] train loss : 0.0182 train accuracy : 0.9900\n",
            "[epoch:30, iteration:7750] test_loss : 0.4825 test accuracy : 0.9070\n",
            "[epoch:31, iteration:7800] train loss : 0.0319 train accuracy : 0.9950\n",
            "[epoch:31, iteration:8000] train loss : 0.0365 train accuracy : 0.9850\n",
            "[epoch:31, iteration:8000] test_loss : 0.4862 test accuracy : 0.9088\n",
            "[epoch:32, iteration:8200] train loss : 0.0228 train accuracy : 0.9900\n",
            "[epoch:32, iteration:8250] test_loss : 0.4869 test accuracy : 0.9077\n",
            "[epoch:33, iteration:8400] train loss : 0.0256 train accuracy : 0.9900\n",
            "[epoch:33, iteration:8500] test_loss : 0.4892 test accuracy : 0.9109\n",
            "checkpoint is saved !\n",
            "[epoch:34, iteration:8600] train loss : 0.0347 train accuracy : 0.9900\n",
            "[epoch:34, iteration:8750] test_loss : 0.4608 test accuracy : 0.9111\n",
            "checkpoint is saved !\n",
            "[epoch:35, iteration:8800] train loss : 0.0162 train accuracy : 0.9950\n",
            "[epoch:35, iteration:9000] train loss : 0.0275 train accuracy : 0.9950\n",
            "[epoch:35, iteration:9000] test_loss : 0.4814 test accuracy : 0.9083\n",
            "[epoch:36, iteration:9200] train loss : 0.0189 train accuracy : 0.9950\n",
            "[epoch:36, iteration:9250] test_loss : 0.4891 test accuracy : 0.9077\n",
            "[epoch:37, iteration:9400] train loss : 0.0192 train accuracy : 0.9900\n",
            "[epoch:37, iteration:9500] test_loss : 0.4876 test accuracy : 0.9080\n",
            "[epoch:38, iteration:9600] train loss : 0.0303 train accuracy : 0.9800\n",
            "[epoch:38, iteration:9750] test_loss : 0.4695 test accuracy : 0.9089\n",
            "[epoch:39, iteration:9800] train loss : 0.0301 train accuracy : 0.9850\n",
            "[epoch:39, iteration:10000] train loss : 0.0400 train accuracy : 0.9800\n",
            "[epoch:39, iteration:10000] test_loss : 0.4929 test accuracy : 0.9084\n",
            "[epoch:40, iteration:10200] train loss : 0.0107 train accuracy : 0.9950\n",
            "[epoch:40, iteration:10250] test_loss : 0.4792 test accuracy : 0.9120\n",
            "checkpoint is saved !\n",
            "[epoch:41, iteration:10400] train loss : 0.0148 train accuracy : 0.9950\n",
            "[epoch:41, iteration:10500] test_loss : 0.5028 test accuracy : 0.9054\n",
            "[epoch:42, iteration:10600] train loss : 0.0145 train accuracy : 0.9950\n",
            "[epoch:42, iteration:10750] test_loss : 0.4885 test accuracy : 0.9064\n",
            "[epoch:43, iteration:10800] train loss : 0.0040 train accuracy : 1.0000\n",
            "[epoch:43, iteration:11000] train loss : 0.0238 train accuracy : 0.9950\n",
            "[epoch:43, iteration:11000] test_loss : 0.5232 test accuracy : 0.9056\n",
            "[epoch:44, iteration:11200] train loss : 0.0418 train accuracy : 0.9850\n",
            "[epoch:44, iteration:11250] test_loss : 0.4921 test accuracy : 0.9102\n",
            "[epoch:45, iteration:11400] train loss : 0.0867 train accuracy : 0.9750\n",
            "[epoch:45, iteration:11500] test_loss : 0.4970 test accuracy : 0.9080\n",
            "[epoch:46, iteration:11600] train loss : 0.0172 train accuracy : 0.9950\n",
            "[epoch:46, iteration:11750] test_loss : 0.4877 test accuracy : 0.9112\n",
            "[epoch:47, iteration:11800] train loss : 0.0137 train accuracy : 0.9950\n",
            "[epoch:47, iteration:12000] train loss : 0.0112 train accuracy : 0.9950\n",
            "[epoch:47, iteration:12000] test_loss : 0.5074 test accuracy : 0.9068\n",
            "[epoch:48, iteration:12200] train loss : 0.0030 train accuracy : 1.0000\n",
            "[epoch:48, iteration:12250] test_loss : 0.4910 test accuracy : 0.9081\n",
            "[epoch:49, iteration:12400] train loss : 0.0120 train accuracy : 0.9950\n",
            "[epoch:49, iteration:12500] test_loss : 0.4898 test accuracy : 0.9082\n",
            "[epoch:50, iteration:12600] train loss : 0.0061 train accuracy : 0.9950\n",
            "[epoch:50, iteration:12750] test_loss : 0.4874 test accuracy : 0.9109\n",
            "[epoch:51, iteration:12800] train loss : 0.0089 train accuracy : 1.0000\n",
            "[epoch:51, iteration:13000] train loss : 0.0330 train accuracy : 0.9950\n",
            "[epoch:51, iteration:13000] test_loss : 0.4962 test accuracy : 0.9109\n",
            "[epoch:52, iteration:13200] train loss : 0.0145 train accuracy : 0.9950\n",
            "[epoch:52, iteration:13250] test_loss : 0.5316 test accuracy : 0.9103\n",
            "[epoch:53, iteration:13400] train loss : 0.0045 train accuracy : 1.0000\n",
            "[epoch:53, iteration:13500] test_loss : 0.4858 test accuracy : 0.9093\n",
            "[epoch:54, iteration:13600] train loss : 0.0461 train accuracy : 0.9850\n",
            "[epoch:54, iteration:13750] test_loss : 0.4872 test accuracy : 0.9094\n",
            "[epoch:55, iteration:13800] train loss : 0.0073 train accuracy : 0.9950\n",
            "[epoch:55, iteration:14000] train loss : 0.0253 train accuracy : 0.9900\n",
            "[epoch:55, iteration:14000] test_loss : 0.4920 test accuracy : 0.9129\n",
            "checkpoint is saved !\n",
            "[epoch:56, iteration:14200] train loss : 0.0166 train accuracy : 0.9900\n",
            "[epoch:56, iteration:14250] test_loss : 0.4816 test accuracy : 0.9101\n",
            "[epoch:57, iteration:14400] train loss : 0.0352 train accuracy : 0.9850\n",
            "[epoch:57, iteration:14500] test_loss : 0.5290 test accuracy : 0.9100\n",
            "[epoch:58, iteration:14600] train loss : 0.0075 train accuracy : 1.0000\n",
            "[epoch:58, iteration:14750] test_loss : 0.5122 test accuracy : 0.9063\n",
            "[epoch:59, iteration:14800] train loss : 0.0198 train accuracy : 0.9950\n",
            "[epoch:59, iteration:15000] train loss : 0.0408 train accuracy : 0.9850\n",
            "[epoch:59, iteration:15000] test_loss : 0.5291 test accuracy : 0.9086\n",
            "[epoch:60, iteration:15200] train loss : 0.0110 train accuracy : 0.9950\n",
            "[epoch:60, iteration:15250] test_loss : 0.5325 test accuracy : 0.9069\n",
            "[epoch:61, iteration:15400] train loss : 0.0190 train accuracy : 0.9900\n",
            "[epoch:61, iteration:15500] test_loss : 0.5241 test accuracy : 0.9085\n",
            "[epoch:62, iteration:15600] train loss : 0.0013 train accuracy : 1.0000\n",
            "[epoch:62, iteration:15750] test_loss : 0.5013 test accuracy : 0.9091\n",
            "[epoch:63, iteration:15800] train loss : 0.0102 train accuracy : 0.9950\n",
            "[epoch:63, iteration:16000] train loss : 0.0111 train accuracy : 0.9950\n",
            "[epoch:63, iteration:16000] test_loss : 0.5191 test accuracy : 0.9112\n",
            "[epoch:64, iteration:16200] train loss : 0.0168 train accuracy : 0.9950\n",
            "[epoch:64, iteration:16250] test_loss : 0.5180 test accuracy : 0.9101\n",
            "[epoch:65, iteration:16400] train loss : 0.0156 train accuracy : 0.9950\n",
            "[epoch:65, iteration:16500] test_loss : 0.5065 test accuracy : 0.9104\n",
            "[epoch:66, iteration:16600] train loss : 0.0276 train accuracy : 0.9900\n",
            "[epoch:66, iteration:16750] test_loss : 0.5046 test accuracy : 0.9095\n",
            "[epoch:67, iteration:16800] train loss : 0.0036 train accuracy : 1.0000\n",
            "[epoch:67, iteration:17000] train loss : 0.0079 train accuracy : 0.9950\n",
            "[epoch:67, iteration:17000] test_loss : 0.5414 test accuracy : 0.9078\n",
            "[epoch:68, iteration:17200] train loss : 0.0012 train accuracy : 1.0000\n",
            "[epoch:68, iteration:17250] test_loss : 0.5240 test accuracy : 0.9079\n",
            "[epoch:69, iteration:17400] train loss : 0.0054 train accuracy : 1.0000\n",
            "[epoch:69, iteration:17500] test_loss : 0.5069 test accuracy : 0.9075\n",
            "[epoch:70, iteration:17600] train loss : 0.0010 train accuracy : 1.0000\n",
            "[epoch:70, iteration:17750] test_loss : 0.5333 test accuracy : 0.9078\n",
            "[epoch:71, iteration:17800] train loss : 0.0471 train accuracy : 0.9800\n",
            "[epoch:71, iteration:18000] train loss : 0.0062 train accuracy : 0.9950\n",
            "[epoch:71, iteration:18000] test_loss : 0.5404 test accuracy : 0.9074\n",
            "[epoch:72, iteration:18200] train loss : 0.0101 train accuracy : 0.9950\n",
            "[epoch:72, iteration:18250] test_loss : 0.5363 test accuracy : 0.9074\n",
            "[epoch:73, iteration:18400] train loss : 0.0096 train accuracy : 1.0000\n",
            "[epoch:73, iteration:18500] test_loss : 0.5191 test accuracy : 0.9101\n",
            "[epoch:74, iteration:18600] train loss : 0.0022 train accuracy : 1.0000\n",
            "[epoch:74, iteration:18750] test_loss : 0.5519 test accuracy : 0.9069\n",
            "[epoch:75, iteration:18800] train loss : 0.0038 train accuracy : 1.0000\n",
            "[epoch:75, iteration:19000] train loss : 0.0037 train accuracy : 1.0000\n",
            "[epoch:75, iteration:19000] test_loss : 0.5150 test accuracy : 0.9091\n",
            "[epoch:76, iteration:19200] train loss : 0.0020 train accuracy : 1.0000\n",
            "[epoch:76, iteration:19250] test_loss : 0.5216 test accuracy : 0.9090\n",
            "[epoch:77, iteration:19400] train loss : 0.0046 train accuracy : 1.0000\n",
            "[epoch:77, iteration:19500] test_loss : 0.5226 test accuracy : 0.9155\n",
            "checkpoint is saved !\n",
            "[epoch:78, iteration:19600] train loss : 0.0135 train accuracy : 0.9950\n",
            "[epoch:78, iteration:19750] test_loss : 0.5372 test accuracy : 0.9088\n",
            "[epoch:79, iteration:19800] train loss : 0.0033 train accuracy : 1.0000\n",
            "[epoch:79, iteration:20000] train loss : 0.0025 train accuracy : 1.0000\n",
            "[epoch:79, iteration:20000] test_loss : 0.4998 test accuracy : 0.9129\n",
            "[epoch:80, iteration:20200] train loss : 0.0387 train accuracy : 0.9950\n",
            "[epoch:80, iteration:20250] test_loss : 0.5423 test accuracy : 0.9095\n",
            "[epoch:81, iteration:20400] train loss : 0.0028 train accuracy : 1.0000\n",
            "[epoch:81, iteration:20500] test_loss : 0.5348 test accuracy : 0.9085\n",
            "[epoch:82, iteration:20600] train loss : 0.0121 train accuracy : 0.9950\n",
            "[epoch:82, iteration:20750] test_loss : 0.5310 test accuracy : 0.9114\n",
            "[epoch:83, iteration:20800] train loss : 0.0106 train accuracy : 0.9950\n",
            "[epoch:83, iteration:21000] train loss : 0.0030 train accuracy : 1.0000\n",
            "[epoch:83, iteration:21000] test_loss : 0.4994 test accuracy : 0.9077\n",
            "[epoch:84, iteration:21200] train loss : 0.0057 train accuracy : 1.0000\n",
            "[epoch:84, iteration:21250] test_loss : 0.5382 test accuracy : 0.9092\n",
            "[epoch:85, iteration:21400] train loss : 0.0016 train accuracy : 1.0000\n",
            "[epoch:85, iteration:21500] test_loss : 0.5662 test accuracy : 0.9061\n",
            "[epoch:86, iteration:21600] train loss : 0.0095 train accuracy : 0.9950\n",
            "[epoch:86, iteration:21750] test_loss : 0.5265 test accuracy : 0.9114\n",
            "[epoch:87, iteration:21800] train loss : 0.0100 train accuracy : 1.0000\n",
            "[epoch:87, iteration:22000] train loss : 0.0071 train accuracy : 0.9950\n",
            "[epoch:87, iteration:22000] test_loss : 0.5086 test accuracy : 0.9135\n",
            "[epoch:88, iteration:22200] train loss : 0.0136 train accuracy : 0.9950\n",
            "[epoch:88, iteration:22250] test_loss : 0.5135 test accuracy : 0.9085\n",
            "[epoch:89, iteration:22400] train loss : 0.0049 train accuracy : 1.0000\n",
            "[epoch:89, iteration:22500] test_loss : 0.5042 test accuracy : 0.9121\n",
            "[epoch:90, iteration:22600] train loss : 0.0015 train accuracy : 1.0000\n",
            "[epoch:90, iteration:22750] test_loss : 0.5326 test accuracy : 0.9089\n",
            "[epoch:91, iteration:22800] train loss : 0.0129 train accuracy : 0.9950\n",
            "[epoch:91, iteration:23000] train loss : 0.0136 train accuracy : 0.9950\n",
            "[epoch:91, iteration:23000] test_loss : 0.5438 test accuracy : 0.9098\n",
            "[epoch:92, iteration:23200] train loss : 0.0077 train accuracy : 0.9950\n",
            "[epoch:92, iteration:23250] test_loss : 0.5246 test accuracy : 0.9093\n",
            "[epoch:93, iteration:23400] train loss : 0.0235 train accuracy : 0.9950\n",
            "[epoch:93, iteration:23500] test_loss : 0.5355 test accuracy : 0.9098\n",
            "[epoch:94, iteration:23600] train loss : 0.0139 train accuracy : 0.9950\n",
            "[epoch:94, iteration:23750] test_loss : 0.5482 test accuracy : 0.9097\n",
            "[epoch:95, iteration:23800] train loss : 0.0247 train accuracy : 0.9900\n",
            "[epoch:95, iteration:24000] train loss : 0.0102 train accuracy : 0.9950\n",
            "[epoch:95, iteration:24000] test_loss : 0.5286 test accuracy : 0.9099\n",
            "[epoch:96, iteration:24200] train loss : 0.0030 train accuracy : 1.0000\n",
            "[epoch:96, iteration:24250] test_loss : 0.5579 test accuracy : 0.9091\n",
            "[epoch:97, iteration:24400] train loss : 0.0069 train accuracy : 0.9950\n",
            "[epoch:97, iteration:24500] test_loss : 0.5273 test accuracy : 0.9088\n",
            "[epoch:98, iteration:24600] train loss : 0.0175 train accuracy : 0.9950\n",
            "[epoch:98, iteration:24750] test_loss : 0.5263 test accuracy : 0.9100\n",
            "[epoch:99, iteration:24800] train loss : 0.0046 train accuracy : 1.0000\n",
            "[epoch:99, iteration:25000] train loss : 0.0307 train accuracy : 0.9900\n",
            "[epoch:99, iteration:25000] test_loss : 0.5197 test accuracy : 0.9140\n",
            "[epoch:100, iteration:25200] train loss : 0.0026 train accuracy : 1.0000\n",
            "[epoch:100, iteration:25250] test_loss : 0.5406 test accuracy : 0.9132\n",
            "[epoch:101, iteration:25400] train loss : 0.0029 train accuracy : 1.0000\n",
            "[epoch:101, iteration:25500] test_loss : 0.5258 test accuracy : 0.9090\n",
            "[epoch:102, iteration:25600] train loss : 0.0092 train accuracy : 0.9950\n",
            "[epoch:102, iteration:25750] test_loss : 0.5220 test accuracy : 0.9107\n",
            "[epoch:103, iteration:25800] train loss : 0.0186 train accuracy : 0.9950\n",
            "[epoch:103, iteration:26000] train loss : 0.0327 train accuracy : 0.9850\n",
            "[epoch:103, iteration:26000] test_loss : 0.5275 test accuracy : 0.9098\n",
            "[epoch:104, iteration:26200] train loss : 0.0336 train accuracy : 0.9850\n",
            "[epoch:104, iteration:26250] test_loss : 0.5238 test accuracy : 0.9116\n",
            "[epoch:105, iteration:26400] train loss : 0.0056 train accuracy : 1.0000\n",
            "[epoch:105, iteration:26500] test_loss : 0.5336 test accuracy : 0.9056\n",
            "[epoch:106, iteration:26600] train loss : 0.0115 train accuracy : 1.0000\n",
            "[epoch:106, iteration:26750] test_loss : 0.5292 test accuracy : 0.9114\n",
            "[epoch:107, iteration:26800] train loss : 0.0209 train accuracy : 0.9900\n",
            "[epoch:107, iteration:27000] train loss : 0.0053 train accuracy : 1.0000\n",
            "[epoch:107, iteration:27000] test_loss : 0.5591 test accuracy : 0.9084\n",
            "[epoch:108, iteration:27200] train loss : 0.0006 train accuracy : 1.0000\n",
            "[epoch:108, iteration:27250] test_loss : 0.5626 test accuracy : 0.9063\n",
            "[epoch:109, iteration:27400] train loss : 0.0045 train accuracy : 1.0000\n",
            "[epoch:109, iteration:27500] test_loss : 0.5373 test accuracy : 0.9091\n",
            "[epoch:110, iteration:27600] train loss : 0.0095 train accuracy : 1.0000\n",
            "[epoch:110, iteration:27750] test_loss : 0.5534 test accuracy : 0.9038\n",
            "[epoch:111, iteration:27800] train loss : 0.0083 train accuracy : 0.9950\n",
            "[epoch:111, iteration:28000] train loss : 0.0013 train accuracy : 1.0000\n",
            "[epoch:111, iteration:28000] test_loss : 0.5160 test accuracy : 0.9074\n",
            "[epoch:112, iteration:28200] train loss : 0.0486 train accuracy : 0.9850\n",
            "[epoch:112, iteration:28250] test_loss : 0.5194 test accuracy : 0.9104\n",
            "[epoch:113, iteration:28400] train loss : 0.0202 train accuracy : 0.9900\n",
            "[epoch:113, iteration:28500] test_loss : 0.5062 test accuracy : 0.9132\n",
            "[epoch:114, iteration:28600] train loss : 0.0223 train accuracy : 0.9900\n",
            "[epoch:114, iteration:28750] test_loss : 0.5606 test accuracy : 0.9087\n",
            "[epoch:115, iteration:28800] train loss : 0.0050 train accuracy : 1.0000\n",
            "[epoch:115, iteration:29000] train loss : 0.0020 train accuracy : 1.0000\n",
            "[epoch:115, iteration:29000] test_loss : 0.5373 test accuracy : 0.9113\n",
            "[epoch:116, iteration:29200] train loss : 0.0367 train accuracy : 0.9900\n",
            "[epoch:116, iteration:29250] test_loss : 0.5645 test accuracy : 0.9086\n",
            "[epoch:117, iteration:29400] train loss : 0.0211 train accuracy : 0.9950\n",
            "[epoch:117, iteration:29500] test_loss : 0.5426 test accuracy : 0.9108\n",
            "[epoch:118, iteration:29600] train loss : 0.0211 train accuracy : 0.9900\n",
            "[epoch:118, iteration:29750] test_loss : 0.5330 test accuracy : 0.9091\n",
            "[epoch:119, iteration:29800] train loss : 0.0013 train accuracy : 1.0000\n",
            "[epoch:119, iteration:30000] train loss : 0.0066 train accuracy : 1.0000\n",
            "[epoch:119, iteration:30000] test_loss : 0.5405 test accuracy : 0.9109\n",
            "[epoch:120, iteration:30200] train loss : 0.0177 train accuracy : 0.9900\n",
            "[epoch:120, iteration:30250] test_loss : 0.5093 test accuracy : 0.9121\n",
            "[epoch:121, iteration:30400] train loss : 0.0139 train accuracy : 0.9950\n",
            "[epoch:121, iteration:30500] test_loss : 0.5451 test accuracy : 0.9104\n",
            "[epoch:122, iteration:30600] train loss : 0.0160 train accuracy : 0.9950\n",
            "[epoch:122, iteration:30750] test_loss : 0.5453 test accuracy : 0.9079\n",
            "[epoch:123, iteration:30800] train loss : 0.0156 train accuracy : 0.9950\n",
            "[epoch:123, iteration:31000] train loss : 0.0025 train accuracy : 1.0000\n",
            "[epoch:123, iteration:31000] test_loss : 0.5520 test accuracy : 0.9101\n",
            "[epoch:124, iteration:31200] train loss : 0.0319 train accuracy : 0.9850\n",
            "[epoch:124, iteration:31250] test_loss : 0.5251 test accuracy : 0.9129\n",
            "[epoch:125, iteration:31400] train loss : 0.0080 train accuracy : 0.9950\n",
            "[epoch:125, iteration:31500] test_loss : 0.5461 test accuracy : 0.9096\n",
            "[epoch:126, iteration:31600] train loss : 0.0122 train accuracy : 0.9950\n",
            "[epoch:126, iteration:31750] test_loss : 0.5618 test accuracy : 0.9069\n",
            "[epoch:127, iteration:31800] train loss : 0.0073 train accuracy : 0.9950\n",
            "[epoch:127, iteration:32000] train loss : 0.0099 train accuracy : 0.9950\n",
            "[epoch:127, iteration:32000] test_loss : 0.5465 test accuracy : 0.9077\n",
            "[epoch:128, iteration:32200] train loss : 0.0074 train accuracy : 0.9950\n",
            "[epoch:128, iteration:32250] test_loss : 0.5570 test accuracy : 0.9091\n",
            "[epoch:129, iteration:32400] train loss : 0.0236 train accuracy : 0.9950\n",
            "[epoch:129, iteration:32500] test_loss : 0.5440 test accuracy : 0.9105\n",
            "[epoch:130, iteration:32600] train loss : 0.0061 train accuracy : 0.9950\n",
            "[epoch:130, iteration:32750] test_loss : 0.5340 test accuracy : 0.9111\n",
            "[epoch:131, iteration:32800] train loss : 0.0078 train accuracy : 1.0000\n",
            "[epoch:131, iteration:33000] train loss : 0.0179 train accuracy : 0.9950\n",
            "[epoch:131, iteration:33000] test_loss : 0.5494 test accuracy : 0.9115\n",
            "[epoch:132, iteration:33200] train loss : 0.0578 train accuracy : 0.9800\n",
            "[epoch:132, iteration:33250] test_loss : 0.5089 test accuracy : 0.9128\n",
            "[epoch:133, iteration:33400] train loss : 0.0445 train accuracy : 0.9850\n",
            "[epoch:133, iteration:33500] test_loss : 0.5459 test accuracy : 0.9138\n",
            "[epoch:134, iteration:33600] train loss : 0.0048 train accuracy : 0.9950\n",
            "[epoch:134, iteration:33750] test_loss : 0.5140 test accuracy : 0.9134\n",
            "[epoch:135, iteration:33800] train loss : 0.0029 train accuracy : 1.0000\n",
            "[epoch:135, iteration:34000] train loss : 0.0008 train accuracy : 1.0000\n",
            "[epoch:135, iteration:34000] test_loss : 0.5642 test accuracy : 0.9094\n",
            "[epoch:136, iteration:34200] train loss : 0.0112 train accuracy : 0.9950\n",
            "[epoch:136, iteration:34250] test_loss : 0.5318 test accuracy : 0.9115\n",
            "[epoch:137, iteration:34400] train loss : 0.0061 train accuracy : 1.0000\n",
            "[epoch:137, iteration:34500] test_loss : 0.5345 test accuracy : 0.9145\n",
            "[epoch:138, iteration:34600] train loss : 0.0133 train accuracy : 0.9950\n",
            "[epoch:138, iteration:34750] test_loss : 0.5406 test accuracy : 0.9096\n",
            "[epoch:139, iteration:34800] train loss : 0.0168 train accuracy : 0.9900\n",
            "[epoch:139, iteration:35000] train loss : 0.0096 train accuracy : 0.9950\n",
            "[epoch:139, iteration:35000] test_loss : 0.5483 test accuracy : 0.9098\n",
            "[epoch:140, iteration:35200] train loss : 0.0067 train accuracy : 1.0000\n",
            "[epoch:140, iteration:35250] test_loss : 0.5623 test accuracy : 0.9078\n",
            "[epoch:141, iteration:35400] train loss : 0.0093 train accuracy : 0.9950\n",
            "[epoch:141, iteration:35500] test_loss : 0.5490 test accuracy : 0.9127\n",
            "[epoch:142, iteration:35600] train loss : 0.0236 train accuracy : 0.9900\n",
            "[epoch:142, iteration:35750] test_loss : 0.5514 test accuracy : 0.9116\n",
            "[epoch:143, iteration:35800] train loss : 0.0085 train accuracy : 0.9900\n",
            "[epoch:143, iteration:36000] train loss : 0.0008 train accuracy : 1.0000\n",
            "[epoch:143, iteration:36000] test_loss : 0.5441 test accuracy : 0.9105\n",
            "[epoch:144, iteration:36200] train loss : 0.0044 train accuracy : 1.0000\n",
            "[epoch:144, iteration:36250] test_loss : 0.5549 test accuracy : 0.9123\n",
            "[epoch:145, iteration:36400] train loss : 0.0032 train accuracy : 1.0000\n",
            "[epoch:145, iteration:36500] test_loss : 0.5688 test accuracy : 0.9121\n",
            "[epoch:146, iteration:36600] train loss : 0.0123 train accuracy : 0.9950\n",
            "[epoch:146, iteration:36750] test_loss : 0.5750 test accuracy : 0.9092\n",
            "[epoch:147, iteration:36800] train loss : 0.0083 train accuracy : 0.9950\n",
            "[epoch:147, iteration:37000] train loss : 0.0041 train accuracy : 1.0000\n",
            "[epoch:147, iteration:37000] test_loss : 0.5165 test accuracy : 0.9122\n",
            "[epoch:148, iteration:37200] train loss : 0.0182 train accuracy : 0.9900\n",
            "[epoch:148, iteration:37250] test_loss : 0.5454 test accuracy : 0.9093\n",
            "[epoch:149, iteration:37400] train loss : 0.0011 train accuracy : 1.0000\n",
            "[epoch:149, iteration:37500] test_loss : 0.5264 test accuracy : 0.9131\n",
            "[epoch:150, iteration:37600] train loss : 0.0055 train accuracy : 1.0000\n",
            "[epoch:150, iteration:37750] test_loss : 0.5212 test accuracy : 0.9140\n",
            "[epoch:151, iteration:37800] train loss : 0.0011 train accuracy : 1.0000\n",
            "[epoch:151, iteration:38000] train loss : 0.0008 train accuracy : 1.0000\n",
            "[epoch:151, iteration:38000] test_loss : 0.5293 test accuracy : 0.9109\n",
            "[epoch:152, iteration:38200] train loss : 0.0094 train accuracy : 0.9950\n",
            "[epoch:152, iteration:38250] test_loss : 0.5009 test accuracy : 0.9184\n",
            "checkpoint is saved !\n",
            "[epoch:153, iteration:38400] train loss : 0.0007 train accuracy : 1.0000\n",
            "[epoch:153, iteration:38500] test_loss : 0.4984 test accuracy : 0.9171\n",
            "[epoch:154, iteration:38600] train loss : 0.0062 train accuracy : 1.0000\n",
            "[epoch:154, iteration:38750] test_loss : 0.5283 test accuracy : 0.9153\n",
            "[epoch:155, iteration:38800] train loss : 0.0044 train accuracy : 1.0000\n",
            "[epoch:155, iteration:39000] train loss : 0.0503 train accuracy : 0.9900\n",
            "[epoch:155, iteration:39000] test_loss : 0.5296 test accuracy : 0.9103\n",
            "[epoch:156, iteration:39200] train loss : 0.0131 train accuracy : 0.9950\n",
            "[epoch:156, iteration:39250] test_loss : 0.5446 test accuracy : 0.9091\n",
            "[epoch:157, iteration:39400] train loss : 0.0156 train accuracy : 0.9950\n",
            "[epoch:157, iteration:39500] test_loss : 0.5266 test accuracy : 0.9135\n",
            "[epoch:158, iteration:39600] train loss : 0.0165 train accuracy : 0.9900\n",
            "[epoch:158, iteration:39750] test_loss : 0.5353 test accuracy : 0.9103\n",
            "[epoch:159, iteration:39800] train loss : 0.0142 train accuracy : 0.9950\n",
            "[epoch:159, iteration:40000] train loss : 0.0083 train accuracy : 0.9950\n",
            "[epoch:159, iteration:40000] test_loss : 0.5493 test accuracy : 0.9135\n",
            "[epoch:160, iteration:40200] train loss : 0.0146 train accuracy : 0.9950\n",
            "[epoch:160, iteration:40250] test_loss : 0.5183 test accuracy : 0.9175\n",
            "[epoch:161, iteration:40400] train loss : 0.0008 train accuracy : 1.0000\n",
            "[epoch:161, iteration:40500] test_loss : 0.5503 test accuracy : 0.9106\n",
            "[epoch:162, iteration:40600] train loss : 0.0121 train accuracy : 0.9950\n",
            "[epoch:162, iteration:40750] test_loss : 0.5989 test accuracy : 0.9049\n",
            "[epoch:163, iteration:40800] train loss : 0.0033 train accuracy : 1.0000\n",
            "[epoch:163, iteration:41000] train loss : 0.0097 train accuracy : 0.9950\n",
            "[epoch:163, iteration:41000] test_loss : 0.5360 test accuracy : 0.9125\n",
            "[epoch:164, iteration:41200] train loss : 0.0134 train accuracy : 0.9900\n",
            "[epoch:164, iteration:41250] test_loss : 0.5161 test accuracy : 0.9125\n",
            "[epoch:165, iteration:41400] train loss : 0.0033 train accuracy : 1.0000\n",
            "[epoch:165, iteration:41500] test_loss : 0.5448 test accuracy : 0.9098\n",
            "[epoch:166, iteration:41600] train loss : 0.0009 train accuracy : 1.0000\n",
            "[epoch:166, iteration:41750] test_loss : 0.5942 test accuracy : 0.9058\n",
            "[epoch:167, iteration:41800] train loss : 0.0165 train accuracy : 0.9950\n",
            "[epoch:167, iteration:42000] train loss : 0.0229 train accuracy : 0.9850\n",
            "[epoch:167, iteration:42000] test_loss : 0.5699 test accuracy : 0.9116\n",
            "[epoch:168, iteration:42200] train loss : 0.0027 train accuracy : 1.0000\n",
            "[epoch:168, iteration:42250] test_loss : 0.5578 test accuracy : 0.9119\n",
            "[epoch:169, iteration:42400] train loss : 0.0081 train accuracy : 0.9950\n",
            "[epoch:169, iteration:42500] test_loss : 0.5550 test accuracy : 0.9153\n",
            "[epoch:170, iteration:42600] train loss : 0.0130 train accuracy : 0.9900\n",
            "[epoch:170, iteration:42750] test_loss : 0.5519 test accuracy : 0.9128\n",
            "[epoch:171, iteration:42800] train loss : 0.0114 train accuracy : 0.9950\n",
            "[epoch:171, iteration:43000] train loss : 0.0052 train accuracy : 1.0000\n",
            "[epoch:171, iteration:43000] test_loss : 0.5731 test accuracy : 0.9086\n",
            "[epoch:172, iteration:43200] train loss : 0.0030 train accuracy : 1.0000\n",
            "[epoch:172, iteration:43250] test_loss : 0.5422 test accuracy : 0.9127\n",
            "[epoch:173, iteration:43400] train loss : 0.0028 train accuracy : 1.0000\n",
            "[epoch:173, iteration:43500] test_loss : 0.5501 test accuracy : 0.9122\n",
            "[epoch:174, iteration:43600] train loss : 0.0046 train accuracy : 1.0000\n",
            "[epoch:174, iteration:43750] test_loss : 0.5472 test accuracy : 0.9101\n",
            "[epoch:175, iteration:43800] train loss : 0.0002 train accuracy : 1.0000\n",
            "[epoch:175, iteration:44000] train loss : 0.0033 train accuracy : 1.0000\n",
            "[epoch:175, iteration:44000] test_loss : 0.5534 test accuracy : 0.9120\n",
            "[epoch:176, iteration:44200] train loss : 0.0171 train accuracy : 0.9950\n",
            "[epoch:176, iteration:44250] test_loss : 0.5514 test accuracy : 0.9129\n",
            "[epoch:177, iteration:44400] train loss : 0.0221 train accuracy : 0.9900\n",
            "[epoch:177, iteration:44500] test_loss : 0.5265 test accuracy : 0.9146\n",
            "[epoch:178, iteration:44600] train loss : 0.0147 train accuracy : 0.9950\n",
            "[epoch:178, iteration:44750] test_loss : 0.5268 test accuracy : 0.9143\n",
            "[epoch:179, iteration:44800] train loss : 0.0066 train accuracy : 1.0000\n",
            "[epoch:179, iteration:45000] train loss : 0.0075 train accuracy : 0.9950\n",
            "[epoch:179, iteration:45000] test_loss : 0.5461 test accuracy : 0.9153\n",
            "[epoch:180, iteration:45200] train loss : 0.0065 train accuracy : 1.0000\n",
            "[epoch:180, iteration:45250] test_loss : 0.5546 test accuracy : 0.9135\n",
            "[epoch:181, iteration:45400] train loss : 0.0058 train accuracy : 1.0000\n",
            "[epoch:181, iteration:45500] test_loss : 0.5424 test accuracy : 0.9130\n",
            "[epoch:182, iteration:45600] train loss : 0.0042 train accuracy : 1.0000\n",
            "[epoch:182, iteration:45750] test_loss : 0.5423 test accuracy : 0.9146\n",
            "[epoch:183, iteration:45800] train loss : 0.0183 train accuracy : 0.9950\n",
            "[epoch:183, iteration:46000] train loss : 0.0247 train accuracy : 0.9850\n",
            "[epoch:183, iteration:46000] test_loss : 0.5379 test accuracy : 0.9135\n",
            "[epoch:184, iteration:46200] train loss : 0.0285 train accuracy : 0.9900\n",
            "[epoch:184, iteration:46250] test_loss : 0.5375 test accuracy : 0.9132\n",
            "[epoch:185, iteration:46400] train loss : 0.0317 train accuracy : 0.9950\n",
            "[epoch:185, iteration:46500] test_loss : 0.5616 test accuracy : 0.9128\n",
            "[epoch:186, iteration:46600] train loss : 0.0015 train accuracy : 1.0000\n",
            "[epoch:186, iteration:46750] test_loss : 0.5598 test accuracy : 0.9094\n",
            "[epoch:187, iteration:46800] train loss : 0.0004 train accuracy : 1.0000\n",
            "[epoch:187, iteration:47000] train loss : 0.0019 train accuracy : 1.0000\n",
            "[epoch:187, iteration:47000] test_loss : 0.5693 test accuracy : 0.9138\n",
            "[epoch:188, iteration:47200] train loss : 0.0033 train accuracy : 1.0000\n",
            "[epoch:188, iteration:47250] test_loss : 0.5507 test accuracy : 0.9155\n",
            "[epoch:189, iteration:47400] train loss : 0.0012 train accuracy : 1.0000\n",
            "[epoch:189, iteration:47500] test_loss : 0.5532 test accuracy : 0.9137\n",
            "[epoch:190, iteration:47600] train loss : 0.0074 train accuracy : 0.9950\n",
            "[epoch:190, iteration:47750] test_loss : 0.5470 test accuracy : 0.9141\n",
            "[epoch:191, iteration:47800] train loss : 0.0031 train accuracy : 1.0000\n",
            "[epoch:191, iteration:48000] train loss : 0.0087 train accuracy : 0.9950\n",
            "[epoch:191, iteration:48000] test_loss : 0.5176 test accuracy : 0.9138\n",
            "[epoch:192, iteration:48200] train loss : 0.0147 train accuracy : 0.9950\n",
            "[epoch:192, iteration:48250] test_loss : 0.5335 test accuracy : 0.9129\n",
            "[epoch:193, iteration:48400] train loss : 0.0028 train accuracy : 1.0000\n",
            "[epoch:193, iteration:48500] test_loss : 0.5658 test accuracy : 0.9109\n",
            "[epoch:194, iteration:48600] train loss : 0.0009 train accuracy : 1.0000\n",
            "[epoch:194, iteration:48750] test_loss : 0.5590 test accuracy : 0.9144\n",
            "[epoch:195, iteration:48800] train loss : 0.0037 train accuracy : 1.0000\n",
            "[epoch:195, iteration:49000] train loss : 0.0004 train accuracy : 1.0000\n",
            "[epoch:195, iteration:49000] test_loss : 0.5486 test accuracy : 0.9142\n",
            "[epoch:196, iteration:49200] train loss : 0.0013 train accuracy : 1.0000\n",
            "[epoch:196, iteration:49250] test_loss : 0.5448 test accuracy : 0.9146\n",
            "[epoch:197, iteration:49400] train loss : 0.0025 train accuracy : 1.0000\n",
            "[epoch:197, iteration:49500] test_loss : 0.5405 test accuracy : 0.9141\n",
            "[epoch:198, iteration:49600] train loss : 0.0011 train accuracy : 1.0000\n",
            "[epoch:198, iteration:49750] test_loss : 0.5371 test accuracy : 0.9169\n",
            "[epoch:199, iteration:49800] train loss : 0.0202 train accuracy : 0.9900\n",
            "[epoch:199, iteration:50000] train loss : 0.0077 train accuracy : 0.9950\n",
            "[epoch:199, iteration:50000] test_loss : 0.5336 test accuracy : 0.9149\n"
          ],
          "name": "stdout"
        }
      ]
    },
    {
      "cell_type": "markdown",
      "metadata": {
        "id": "ECu3yS0OvfoR",
        "colab_type": "text"
      },
      "source": [
        "## Step 9: Visualize and analyze the results"
      ]
    },
    {
      "cell_type": "code",
      "metadata": {
        "id": "G89sqVp-vLRy",
        "colab_type": "code",
        "outputId": "652b4e57-0ce5-40c8-f8b3-042c3002f39c",
        "colab": {
          "base_uri": "https://localhost:8080/",
          "height": 286
        }
      },
      "source": [
        "import matplotlib.pyplot as plt\n",
        "\n",
        "plt.plot(train_losses, label='train loss')\n",
        "plt.plot(test_losses, label='test loss')\n",
        "plt.legend()\n",
        "\n",
        "training_process = False\n",
        "\n",
        "if not training_process:\n",
        "  # Re-load trained model\n",
        "  my_classifier.load_state_dict(ckpt['my_classifier'])\n",
        "  optimizer.load_state_dict(ckpt['optimizer'])\n",
        "\n",
        "  # Testing\n",
        "  n = 0.\n",
        "  test_loss = 0.\n",
        "  test_acc = 0.\n",
        "  my_classifier.eval()\n",
        "  for test_inputs, test_labels in test_dataloader:\n",
        "    test_inputs = test_inputs.to(device)\n",
        "    test_labels = test_labels.to(device)\n",
        "\n",
        "    logits = my_classifier(test_inputs)\n",
        "    test_loss += F.cross_entropy(logits, test_labels, reduction='sum').item()\n",
        "    test_acc += (logits.argmax(dim=1) == test_labels).float().sum().item()\n",
        "    n += test_inputs.size(0)\n",
        "\n",
        "  test_loss /= n\n",
        "  test_acc /= n\n",
        "  print('Test_loss : {:.4f}, Test accuracy : {:.4f}'.format(test_loss, test_acc))"
      ],
      "execution_count": 10,
      "outputs": [
        {
          "output_type": "stream",
          "text": [
            "Test_loss : 0.5307, Test accuracy : 0.9130\n"
          ],
          "name": "stdout"
        },
        {
          "output_type": "display_data",
          "data": {
            "image/png": "[encoded data removed]",
            "text/plain": [
              "<Figure size 432x288 with 1 Axes>"
            ]
          },
          "metadata": {
            "tags": []
          }
        }
      ]
    },
    {
      "cell_type": "code",
      "metadata": {
        "id": "KHjD9SGrvhzc",
        "colab_type": "code",
        "outputId": "ffff7660-21e1-4d66-baaf-5cbb1cb1e108",
        "colab": {
          "base_uri": "https://localhost:8080/",
          "height": 320
        }
      },
      "source": [
        "import random\n",
        "\n",
        "import matplotlib.pyplot as plt\n",
        "import numpy as np\n",
        "\n",
        "my_classifier.eval()\n",
        "\n",
        "num_test_samples = len(test_dataset)\n",
        "random_idx = random.randint(0, num_test_samples)\n",
        "\n",
        "test_input, test_label = test_dataset.__getitem__(random_idx)\n",
        "test_prediction = F.softmax(my_classifier(test_input.unsqueeze(0).to(device)), dim=1).argmax().item()\n",
        "print('label : %s' % classes[test_label])\n",
        "print('prediction : %s' % classes[test_prediction])\n",
        "\n",
        "# functions to show an image\n",
        "def imshow(img):\n",
        "    img = img / 2 + 0.5     # unnormalize\n",
        "    npimg = img.numpy()\n",
        "    plt.imshow(np.transpose(npimg, (1, 2, 0)))\n",
        "\n",
        "# show images\n",
        "imshow(torchvision.utils.make_grid(test_input))"
      ],
      "execution_count": 13,
      "outputs": [
        {
          "output_type": "stream",
          "text": [
            "Clipping input data to the valid range for imshow with RGB data ([0..1] for floats or [0..255] for integers).\n"
          ],
          "name": "stderr"
        },
        {
          "output_type": "stream",
          "text": [
            "label : car\n",
            "prediction : car\n"
          ],
          "name": "stdout"
        },
        {
          "output_type": "display_data",
          "data": {
            "image/png": "[encoded data removed]",
            "text/plain": [
              "<Figure size 432x288 with 1 Axes>"
            ]
          },
          "metadata": {
            "tags": []
          }
        }
      ]
    },
    {
      "cell_type": "markdown",
      "metadata": {
        "id": "BwcY8z_C2QLA",
        "colab_type": "text"
      },
      "source": [
        "# <font color=\"blue\"> Discussion and Analysis </font>"
      ]
    },
    {
      "cell_type": "markdown",
      "metadata": {
        "id": "v2W0ZtF82Xyb",
        "colab_type": "text"
      },
      "source": [
        "<font color=\"blue\"> Fill here with your discussion </font>"
      ]
    }
  ]
}
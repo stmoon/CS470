{
  "nbformat": 4,
  "nbformat_minor": 0,
  "metadata": {
    "colab": {
      "name": "CS470 Assignment #1: CNN classification with Cifar10_v3",
      "provenance": [],
      "collapsed_sections": [],
      "toc_visible": true,
      "include_colab_link": true
    },
    "kernelspec": {
      "name": "python3",
      "display_name": "Python 3"
    },
    "accelerator": "TPU"
  },
  "cells": [
    {
      "cell_type": "markdown",
      "metadata": {
        "id": "view-in-github",
        "colab_type": "text"
      },
      "source": [
        "<a href=\"https://colab.research.google.com/github/stmoon/CS470/blob/master/CS470_Assignment_1_CNN_classification_with_Cifar10_v3.ipynb\" target=\"_parent\"><img src=\"https://colab.research.google.com/assets/colab-badge.svg\" alt=\"Open In Colab\"/></a>"
      ]
    },
    {
      "cell_type": "markdown",
      "metadata": {
        "id": "PRqPMAzzNipD",
        "colab_type": "text"
      },
      "source": [
        "CS470 Assignment #1: CNN classification with Cifar10\n",
        "====\n",
        "\n",
        "Primary TA : Myeongjae Jang\n",
        "\n",
        "TA's E-mail : myeongjae0409@kaist.ac.kr\n",
        "\n",
        "## Instruction\n",
        "\n",
        "- Modify the baseline CNN model to improve the classification performance on Cifar10 dataset. In addition to the model definition, you can modify any parts of this colab example to improve the test accuracy (e.g., learning rate, batch size, etc.)\n",
        "- Train your CNN model and compare it to the baseline (in terms of training loss and the test accuracy).\n",
        "- Explain your modifications and discuss how you improved the test accuracy.\n",
        "\n",
        "## Submission guidelines\n",
        "\n",
        "- Your code and report will be all in Colab. Copy this example to your google drive and edit it to complete your assignment. Add sections at the bottom of this example to discuss the results. For discussion and analysis, we highly encourage you to use graphics if possible (e.g., plots, images, etc.). \n",
        "- To make grading efficient, please highlight all contributions & modifications you made clearly. We highly encourage you to add code blocks in the discussion section to discuss your modifications (e.g., you can describe the model definition in the discussion section using the code blocks).\n",
        "- We should be able to reproduce your results using your code and pre-trained model. Please double-check if your code runs without error and loads your pre-trained model properly. Submissions failed to run or reproduce the results will get a substantial penalty. \n",
        "- In this assignment, **we are not allowing fine-tuning from the pre-trained model** (e.g. ImageNet pre-trained models). You should train your  model on Cifar10 dataset from scratch. \n",
        "\n",
        "## Deliverables\n",
        "- Download your Colab notebook and the pre-trained model, and submit a zip file in a format: [StudentID].zip. Please double-check that you locate and load your pre-trained model properly.\n",
        "- Your assignment should be submitted through KLMS. All other submissions (e.g., via email) will not be considered as valid submissions. \n",
        "\n",
        "## Grading policy\n",
        "\n",
        "- **Code** (50%): Your code should work and outperform the baseline model in terms of the test accuracy. \n",
        "- **Report** (50%): Explain your modification and justify how it improved the perofrmance. It would be great if you have some supporting results for your justification (e.g., justifying that you resolved the overfitting by comparing two training/testing loss curves). \n",
        "- **Extra points** will be given if your submission satisfies the following:\n",
        " - **High test accuracy**: we will rank the submissions based on the test accuracy, and assign extra points according to the rank (e.g. 3 points for top 10%, 2 points for top 30%, 1 points for top 50%.)\n",
        " - **Comprehensive discussion**: we will assign extra points if your report contains comprehensive discussion/analysis of the results. Examples include justification of your choice of model (or hyper-parameters), comparisons to the baseline model (analysis on the source of improvement), insightful visualizations (loss curves, misclassification results), etc.\n",
        "\n",
        "## Due date\n",
        "- **23:59:59 September 25th.**\n",
        "- Late submission is allowed until 23:59:59 September 27th.\n",
        "- Late submission will be applied 20% penalty.\n",
        "\n",
        "## Questions\n",
        "- Please use QnA board in KLMS as a main communication channel. When you post questions, please make it public so that all students can share the information. Please use the prefix \"[Assignment 1]\" in the subject for all questions regarding this assignment (e.g., [Assignment 1] Regarding the grading policy).\n",
        "\n",
        "## PyTorch Documentation\n",
        "- You can refer PyTorch documentation for your assignment.\n",
        "- https://pytorch.org/docs/stable/index.html\n",
        "\n"
      ]
    },
    {
      "cell_type": "markdown",
      "metadata": {
        "id": "RO1mgGV_uOIK",
        "colab_type": "text"
      },
      "source": [
        "## Step 1: Connect to your Google Drive\n",
        "\n",
        "It is required if you want to save checkpoints and load them later on.\n",
        "\n",
        "### (You have to submit your trained results as the checkpoint. So, please check your Google Drive connection again.)"
      ]
    },
    {
      "cell_type": "code",
      "metadata": {
        "id": "cLth6ZfXuSGT",
        "colab_type": "code",
        "outputId": "fd94ae0d-e3eb-429b-b109-ad3ffde35a97",
        "colab": {
          "base_uri": "https://localhost:8080/",
          "height": 124
        }
      },
      "source": [
        "from google.colab import drive\n",
        "\n",
        "drive.mount('/gdrive')\n",
        "gdrive_root = '/gdrive/My Drive'"
      ],
      "execution_count": 0,
      "outputs": [
        {
          "output_type": "stream",
          "text": [
            "Go to this URL in a browser: https://accounts.google.com/o/oauth2/auth?client_id=947318989803-6bn6qk8qdgf4n4g3pfee6491hc0brc4i.apps.googleusercontent.com&redirect_uri=urn%3Aietf%3Awg%3Aoauth%3A2.0%3Aoob&scope=email%20https%3A%2F%2Fwww.googleapis.com%2Fauth%2Fdocs.test%20https%3A%2F%2Fwww.googleapis.com%2Fauth%2Fdrive%20https%3A%2F%2Fwww.googleapis.com%2Fauth%2Fdrive.photos.readonly%20https%3A%2F%2Fwww.googleapis.com%2Fauth%2Fpeopleapi.readonly&response_type=code\n",
            "\n",
            "Enter your authorization code:\n",
            "··········\n",
            "Mounted at /gdrive\n"
          ],
          "name": "stdout"
        }
      ]
    },
    {
      "cell_type": "markdown",
      "metadata": {
        "id": "RYwUwGf8qW1U",
        "colab_type": "text"
      },
      "source": [
        "## Step 2: Import modules"
      ]
    },
    {
      "cell_type": "code",
      "metadata": {
        "id": "3UtshANjqpy4",
        "colab_type": "code",
        "outputId": "98a4f524-19ef-4f25-820a-f2154922b21b",
        "colab": {
          "base_uri": "https://localhost:8080/",
          "height": 52
        }
      },
      "source": [
        "import os\n",
        "\n",
        "import torch\n",
        "import torch.optim as optim\n",
        "import torch.nn as nn\n",
        "import torch.nn.functional as F\n",
        "from torch.utils.data import DataLoader\n",
        "import torchvision\n",
        "from torchvision import transforms\n",
        "\n",
        "!pip install -U tensorboardcolab\n",
        "from tensorboardcolab import TensorBoardColab\n",
        "\n",
        "torch.manual_seed(470)\n",
        "torch.cuda.manual_seed(470)"
      ],
      "execution_count": 0,
      "outputs": [
        {
          "output_type": "stream",
          "text": [
            "Requirement already up-to-date: tensorboardcolab in /usr/local/lib/python3.6/dist-packages (0.0.22)\n"
          ],
          "name": "stdout"
        },
        {
          "output_type": "stream",
          "text": [
            "Using TensorFlow backend.\n"
          ],
          "name": "stderr"
        }
      ]
    },
    {
      "cell_type": "markdown",
      "metadata": {
        "id": "0iJ-Q6sbq8c3",
        "colab_type": "text"
      },
      "source": [
        "## Step 3: Configure the experiments"
      ]
    },
    {
      "cell_type": "code",
      "metadata": {
        "id": "fA5jAy7Wq-E2",
        "colab_type": "code",
        "outputId": "3ac5690f-3bbd-41f0-93d6-5575e526c9a0",
        "colab": {
          "base_uri": "https://localhost:8080/",
          "height": 69
        }
      },
      "source": [
        "# training & optimization hyper-parameters\n",
        "max_epoch = 200\n",
        "learning_rate = 0.001\n",
        "batch_size = 20000\n",
        "device = 'cuda'\n",
        "\n",
        "# model hyper-parameters\n",
        "output_dim = 10 \n",
        "\n",
        "# Boolean value to select training process\n",
        "training_process = True\n",
        "\n",
        "# initialize tensorboard for visualization\n",
        "# Note : click the Tensorboard link to see the visualization of training/testing results\n",
        "tbc = TensorBoardColab()"
      ],
      "execution_count": 0,
      "outputs": [
        {
          "output_type": "stream",
          "text": [
            "Wait for 8 seconds...\n",
            "TensorBoard link:\n",
            "https://4a55be78.ngrok.io\n"
          ],
          "name": "stdout"
        }
      ]
    },
    {
      "cell_type": "markdown",
      "metadata": {
        "id": "2tZt60aMrQ1g",
        "colab_type": "text"
      },
      "source": [
        "## Step 4: Construct data pipeline\n",
        "\n",
        "**`torchvision.datasets.CIFAR10`** will automatically construct **`Cifar10`** dataset."
      ]
    },
    {
      "cell_type": "code",
      "metadata": {
        "id": "aHbtV46LrXOF",
        "colab_type": "code",
        "outputId": "55bb6336-c58d-4410-a010-fd955f0cda9a",
        "colab": {
          "base_uri": "https://localhost:8080/",
          "height": 52
        }
      },
      "source": [
        "data_dir = os.path.join(gdrive_root, 'my_data')\n",
        "\n",
        "transform = transforms.Compose(\n",
        "    [transforms.ToTensor(),\n",
        "     transforms.Normalize((0.5, 0.5, 0.5), (0.5, 0.5, 0.5))])\n",
        "\n",
        "train_dataset = torchvision.datasets.CIFAR10(root=data_dir, train=True, download=True, transform=transform)\n",
        "train_dataloader = torch.utils.data.DataLoader(train_dataset, batch_size=4, shuffle=True, num_workers=2)\n",
        "\n",
        "test_dataset = torchvision.datasets.CIFAR10(root=data_dir, train=False, download=True, transform=transform)\n",
        "test_dataloader = torch.utils.data.DataLoader(test_dataset, batch_size=4, shuffle=False, num_workers=2)\n",
        "\n",
        "classes = ('plane', 'car', 'bird', 'cat', 'deer', 'dog', 'frog', 'horse', 'ship', 'truck')"
      ],
      "execution_count": 0,
      "outputs": [
        {
          "output_type": "stream",
          "text": [
            "Files already downloaded and verified\n",
            "Files already downloaded and verified\n"
          ],
          "name": "stdout"
        }
      ]
    },
    {
      "cell_type": "code",
      "metadata": {
        "id": "yc3cxhEX8r7b",
        "colab_type": "code",
        "outputId": "22281ad7-07bf-46cd-bb04-28bfc0bed718",
        "colab": {
          "base_uri": "https://localhost:8080/",
          "height": 204
        }
      },
      "source": [
        "import matplotlib.pyplot as plt\n",
        "import numpy as np\n",
        "%matplotlib inline\n",
        "\n",
        "import matplotlib as mpl\n",
        "mpl.rcParams['axes.grid'] = False\n",
        "mpl.rcParams['image.interpolation'] = 'nearest'\n",
        "mpl.rcParams['figure.figsize'] = 10, 15\n",
        "\n",
        "def show_dataset(dataset, n=6):\n",
        "  img = np.vstack((np.hstack((np.asarray(dataset[i][0]) for _ in range(n)))\n",
        "                   for i in range(10)))\n",
        "  print(img.shape)\n",
        "  plt.imshow(img[3,:,:])\n",
        "  plt.axis('off')\n",
        "  \n",
        "  \n",
        "show_dataset(train_dataset)\n"
      ],
      "execution_count": 1,
      "outputs": [
        {
          "output_type": "error",
          "ename": "NameError",
          "evalue": "ignored",
          "traceback": [
            "\u001b[0;31m---------------------------------------------------------------------------\u001b[0m",
            "\u001b[0;31mNameError\u001b[0m                                 Traceback (most recent call last)",
            "\u001b[0;32m<ipython-input-1-4567eb27b9ce>\u001b[0m in \u001b[0;36m<module>\u001b[0;34m()\u001b[0m\n\u001b[1;32m     16\u001b[0m \u001b[0;34m\u001b[0m\u001b[0m\n\u001b[1;32m     17\u001b[0m \u001b[0;34m\u001b[0m\u001b[0m\n\u001b[0;32m---> 18\u001b[0;31m \u001b[0mshow_dataset\u001b[0m\u001b[0;34m(\u001b[0m\u001b[0mtrain_dataset\u001b[0m\u001b[0;34m)\u001b[0m\u001b[0;34m\u001b[0m\u001b[0;34m\u001b[0m\u001b[0m\n\u001b[0m",
            "\u001b[0;31mNameError\u001b[0m: name 'train_dataset' is not defined"
          ]
        }
      ]
    },
    {
      "cell_type": "markdown",
      "metadata": {
        "id": "6G_dWd-6rwWb",
        "colab_type": "text"
      },
      "source": [
        "## Step 5: Construct a neural network builder\n",
        "\n",
        "We serve the baseline CNN model which is supported on Pytorch tutorial: https://colab.research.google.com/github/pytorch/tutorials/blob/gh-pages/_downloads/cifar10_tutorial.ipynb#scrollTo=c1E1b7-igUcR\n",
        "\n",
        "### (You have to compare your own CNN model's test accuracy with the baseline CNN model and explain why your own model's test accuracy is higher than the basline.)"
      ]
    },
    {
      "cell_type": "code",
      "metadata": {
        "id": "FX_wne0Vr1E5",
        "colab_type": "code",
        "colab": {}
      },
      "source": [
        "class MyClassifier(nn.Module):\n",
        "  def __init__(self):\n",
        "        super(MyClassifier, self).__init__()\n",
        "        self.conv1 = nn.Conv2d(in_channels=3, out_channels=6, kernel_size=5)\n",
        "        self.batchnorm1 = nn.BatchNorm2d(num_features=6)\n",
        "        self.relu = nn.ReLU()\n",
        "        self.pool = nn.MaxPool2d(kernel_size=2, stride=2)\n",
        "        self.conv2 = nn.Conv2d(in_channels=6, out_channels=16, kernel_size=3)\n",
        "        self.conv3 = nn.Conv2d(in_channels=16, out_channels=32, kernel_size=3)\n",
        "        self.batchnorm3 = nn.BatchNorm2d(num_features=32)\n",
        "        self.conv4 = nn.Conv2d(in_channels=32, out_channels=64, kernel_size=1)\n",
        "        self.fc1 = nn.Linear(in_features=64 * 1 * 1, out_features=64)\n",
        "        self.fc2 = nn.Linear(in_features=64, out_features=output_dim)\n",
        "\n",
        "  def forward(self, x):\n",
        "      x = self.pool(self.relu(self.batchnorm1(self.conv1(x))))\n",
        "      x = self.pool(self.relu(self.conv2(x)))\n",
        "      x = self.pool(self.relu(self.batchnorm3(self.conv3(x))))\n",
        "      x = self.pool(self.relu(self.conv4(x)))\n",
        "      x = x.view(-1, 64 * 1 * 1)\n",
        "      x = self.relu(self.fc1(x))\n",
        "      outputs = self.fc2(x)\n",
        "      return outputs"
      ],
      "execution_count": 0,
      "outputs": []
    },
    {
      "cell_type": "markdown",
      "metadata": {
        "id": "YpA3xhjMspvA",
        "colab_type": "text"
      },
      "source": [
        "## Step 6: Initialize the network and optimizer\n",
        "\n",
        "If you want to train modularized neural network in Step 5B, please use 'MyClassifier2' as 'my_classifier'. It is written as a comment now."
      ]
    },
    {
      "cell_type": "code",
      "metadata": {
        "id": "XP111gW0s8aH",
        "colab_type": "code",
        "outputId": "fc298bac-73cc-4fb1-f57f-6c3f9f2b9838",
        "colab": {
          "base_uri": "https://localhost:8080/",
          "height": 233
        }
      },
      "source": [
        "my_classifier = MyClassifier()\n",
        "my_classifier = my_classifier.to(device)\n",
        "\n",
        "# Print your neural network structure\n",
        "print(my_classifier)\n",
        "\n",
        "optimizer = optim.Adam(my_classifier.parameters(), lr=learning_rate)\n"
      ],
      "execution_count": 0,
      "outputs": [
        {
          "output_type": "stream",
          "text": [
            "MyClassifier(\n",
            "  (conv1): Conv2d(3, 6, kernel_size=(5, 5), stride=(1, 1))\n",
            "  (batchnorm1): BatchNorm2d(6, eps=1e-05, momentum=0.1, affine=True, track_running_stats=True)\n",
            "  (relu): ReLU()\n",
            "  (pool): MaxPool2d(kernel_size=2, stride=2, padding=0, dilation=1, ceil_mode=False)\n",
            "  (conv2): Conv2d(6, 16, kernel_size=(3, 3), stride=(1, 1))\n",
            "  (conv3): Conv2d(16, 32, kernel_size=(3, 3), stride=(1, 1))\n",
            "  (batchnorm3): BatchNorm2d(32, eps=1e-05, momentum=0.1, affine=True, track_running_stats=True)\n",
            "  (conv4): Conv2d(32, 64, kernel_size=(1, 1), stride=(1, 1))\n",
            "  (fc1): Linear(in_features=64, out_features=64, bias=True)\n",
            "  (fc2): Linear(in_features=64, out_features=10, bias=True)\n",
            ")\n"
          ],
          "name": "stdout"
        }
      ]
    },
    {
      "cell_type": "markdown",
      "metadata": {
        "id": "8lAQeXmjsILS",
        "colab_type": "text"
      },
      "source": [
        "## Step 7: Load pre-trained weights if exist\n",
        "\n",
        "- **For your sumbmission you have to store the trained model as a checkpoint.**\n",
        "- Please do not erase this step.\n",
        "- If you want to modify this step, please be careful.\n",
        "- After training please confirm that your checkpoint is correctly stored and re-loaded."
      ]
    },
    {
      "cell_type": "code",
      "metadata": {
        "id": "hFLNZxaBsHUl",
        "colab_type": "code",
        "outputId": "14e0810c-fe61-430f-f6c9-6f8d2bc651d0",
        "colab": {
          "base_uri": "https://localhost:8080/",
          "height": 53
        }
      },
      "source": [
        "ckpt_dir = os.path.join(gdrive_root, 'checkpoints')\n",
        "if not os.path.exists(ckpt_dir):\n",
        "  os.makedirs(ckpt_dir)\n",
        "  \n",
        "best_acc = 0.\n",
        "ckpt_path = os.path.join(ckpt_dir, 'lastest.pt')\n",
        "if os.path.exists(ckpt_path):\n",
        "  ckpt = torch.load(ckpt_path)\n",
        "  try:\n",
        "    my_classifier.load_state_dict(ckpt['my_classifier'])\n",
        "    optimizer.load_state_dict(ckpt['optimizer'])\n",
        "    best_acc = ckpt['best_acc']\n",
        "  except RuntimeError as e:\n",
        "      print('wrong checkpoint')\n",
        "  else:    \n",
        "    print('checkpoint is loaded !')\n",
        "    print('current best accuracy : %.2f' % best_acc)"
      ],
      "execution_count": 0,
      "outputs": [
        {
          "output_type": "stream",
          "text": [
            "checkpoint is loaded !\n",
            "current best accuracy : 0.67\n"
          ],
          "name": "stdout"
        }
      ]
    },
    {
      "cell_type": "markdown",
      "metadata": {
        "id": "Z1t7n6yttNEc",
        "colab_type": "text"
      },
      "source": [
        "## Step 8: Train the network\n",
        "\n",
        "Note : It would be better to save checkpoints periodically, otherwise you'll lose everything you've trained if the session is recycled."
      ]
    },
    {
      "cell_type": "code",
      "metadata": {
        "id": "9vczdKbytV38",
        "colab_type": "code",
        "outputId": "2cf7a957-05ba-432d-ab41-e9e8e4f0aa29",
        "colab": {
          "base_uri": "https://localhost:8080/",
          "height": 1000
        }
      },
      "source": [
        "if training_process:\n",
        "  it = 0\n",
        "  train_losses = []\n",
        "  test_losses = []\n",
        "  for epoch in range(max_epoch):\n",
        "    # train phase\n",
        "    my_classifier.train()\n",
        "    for inputs, labels in train_dataloader:\n",
        "      it += 1\n",
        "\n",
        "      # load data to the GPU.\n",
        "      inputs = inputs.to(device)\n",
        "      labels = labels.to(device)\n",
        "\n",
        "      # feed data into the network and get outputs.\n",
        "      logits = my_classifier(inputs)\n",
        "\n",
        "      # calculate loss\n",
        "      # Note: `F.cross_entropy` function receives logits, or pre-softmax outputs, rather than final probability scores.\n",
        "      loss = F.cross_entropy(logits, labels)\n",
        "\n",
        "      # Note: You should flush out gradients computed at the previous step before computing gradients at the current step. \n",
        "      #       Otherwise, gradients will accumulate.\n",
        "      optimizer.zero_grad()\n",
        "\n",
        "      # backprogate loss.\n",
        "      loss.backward()\n",
        "\n",
        "      # update the weights in the network.\n",
        "      optimizer.step()\n",
        "\n",
        "      # calculate accuracy.\n",
        "      acc = (logits.argmax(dim=1) == labels).float().mean()\n",
        "\n",
        "      if it % 2000 == 0:\n",
        "        tbc.save_value('Loss', 'train_loss', it, loss.item())\n",
        "        print('[epoch:{}, iteration:{}] train loss : {:.4f} train accuracy : {:.4f}'.format(epoch, it, loss.item(), acc.item()))\n",
        "\n",
        "    # save losses in a list so that we can visualize them later.\n",
        "    train_losses.append(loss)  \n",
        "\n",
        "    # test phase\n",
        "    n = 0.\n",
        "    test_loss = 0.\n",
        "    test_acc = 0.\n",
        "    my_classifier.eval()\n",
        "    for test_inputs, test_labels in test_dataloader:\n",
        "      test_inputs = test_inputs.to(device)\n",
        "      test_labels = test_labels.to(device)\n",
        "\n",
        "      logits = my_classifier(test_inputs)\n",
        "      test_loss += F.cross_entropy(logits, test_labels, reduction='sum').item()\n",
        "      test_acc += (logits.argmax(dim=1) == test_labels).float().sum().item()\n",
        "      n += test_inputs.size(0)\n",
        "\n",
        "    test_loss /= n\n",
        "    test_acc /= n\n",
        "    test_losses.append(test_loss)\n",
        "    tbc.save_value('Loss', 'test_loss', it, test_loss)\n",
        "    print('[epoch:{}, iteration:{}] test_loss : {:.4f} test accuracy : {:.4f}'.format(epoch, it, test_loss, test_acc)) \n",
        "\n",
        "    tbc.flush_line('train_loss')\n",
        "    tbc.flush_line('test_loss')\n",
        "\n",
        "    # save checkpoint whenever there is improvement in performance\n",
        "    if test_acc > best_acc:\n",
        "      best_acc = test_acc\n",
        "      # Note: optimizer also has states ! don't forget to save them as well.\n",
        "      ckpt = {'my_classifier':my_classifier.state_dict(),\n",
        "              'optimizer':optimizer.state_dict(),\n",
        "              'best_acc':best_acc}\n",
        "      torch.save(ckpt, ckpt_path)\n",
        "      print('checkpoint is saved !')\n",
        "    \n",
        "tbc.close()"
      ],
      "execution_count": 0,
      "outputs": [
        {
          "output_type": "stream",
          "text": [
            "[epoch:0, iteration:2000] train loss : 0.1004 train accuracy : 1.0000\n",
            "[epoch:0, iteration:4000] train loss : 1.1606 train accuracy : 0.5000\n",
            "[epoch:0, iteration:6000] train loss : 1.2641 train accuracy : 0.5000\n",
            "[epoch:0, iteration:8000] train loss : 1.6242 train accuracy : 0.5000\n",
            "[epoch:0, iteration:10000] train loss : 1.1130 train accuracy : 0.5000\n",
            "[epoch:0, iteration:12000] train loss : 1.0600 train accuracy : 0.2500\n",
            "[epoch:0, iteration:12500] test_loss : 0.9948 test accuracy : 0.6578\n",
            "[epoch:1, iteration:14000] train loss : 1.0463 train accuracy : 0.5000\n",
            "[epoch:1, iteration:16000] train loss : 1.2332 train accuracy : 0.5000\n",
            "[epoch:1, iteration:18000] train loss : 0.5408 train accuracy : 0.7500\n",
            "[epoch:1, iteration:20000] train loss : 0.2126 train accuracy : 1.0000\n",
            "[epoch:1, iteration:22000] train loss : 1.9852 train accuracy : 0.5000\n",
            "[epoch:1, iteration:24000] train loss : 1.2167 train accuracy : 0.5000\n",
            "[epoch:1, iteration:25000] test_loss : 0.9917 test accuracy : 0.6631\n",
            "[epoch:2, iteration:26000] train loss : 1.4393 train accuracy : 0.5000\n",
            "[epoch:2, iteration:28000] train loss : 1.1067 train accuracy : 0.5000\n",
            "[epoch:2, iteration:30000] train loss : 1.0827 train accuracy : 0.5000\n",
            "[epoch:2, iteration:32000] train loss : 1.1942 train accuracy : 0.7500\n",
            "[epoch:2, iteration:34000] train loss : 1.1177 train accuracy : 0.7500\n",
            "[epoch:2, iteration:36000] train loss : 1.1210 train accuracy : 0.7500\n",
            "[epoch:2, iteration:37500] test_loss : 0.9826 test accuracy : 0.6653\n",
            "[epoch:3, iteration:38000] train loss : 0.9043 train accuracy : 0.5000\n",
            "[epoch:3, iteration:40000] train loss : 0.3280 train accuracy : 0.7500\n",
            "[epoch:3, iteration:42000] train loss : 0.8390 train accuracy : 0.7500\n",
            "[epoch:3, iteration:44000] train loss : 0.2081 train accuracy : 1.0000\n",
            "[epoch:3, iteration:46000] train loss : 1.5866 train accuracy : 0.5000\n",
            "[epoch:3, iteration:48000] train loss : 0.5890 train accuracy : 0.7500\n",
            "[epoch:3, iteration:50000] train loss : 0.7983 train accuracy : 0.7500\n",
            "[epoch:3, iteration:50000] test_loss : 0.9813 test accuracy : 0.6655\n",
            "[epoch:4, iteration:52000] train loss : 1.6259 train accuracy : 0.5000\n",
            "[epoch:4, iteration:54000] train loss : 1.1538 train accuracy : 0.5000\n",
            "[epoch:4, iteration:56000] train loss : 0.4573 train accuracy : 1.0000\n",
            "[epoch:4, iteration:58000] train loss : 1.3397 train accuracy : 0.5000\n",
            "[epoch:4, iteration:60000] train loss : 1.3089 train accuracy : 0.5000\n",
            "[epoch:4, iteration:62000] train loss : 0.8788 train accuracy : 0.5000\n",
            "[epoch:4, iteration:62500] test_loss : 0.9896 test accuracy : 0.6603\n",
            "[epoch:5, iteration:64000] train loss : 1.4456 train accuracy : 0.5000\n",
            "[epoch:5, iteration:66000] train loss : 0.5389 train accuracy : 1.0000\n",
            "[epoch:5, iteration:68000] train loss : 0.1701 train accuracy : 1.0000\n",
            "[epoch:5, iteration:70000] train loss : 1.4266 train accuracy : 0.5000\n",
            "[epoch:5, iteration:72000] train loss : 0.7799 train accuracy : 0.7500\n",
            "[epoch:5, iteration:74000] train loss : 0.6364 train accuracy : 0.7500\n",
            "[epoch:5, iteration:75000] test_loss : 0.9975 test accuracy : 0.6558\n",
            "[epoch:6, iteration:76000] train loss : 1.4651 train accuracy : 0.2500\n",
            "[epoch:6, iteration:78000] train loss : 0.3621 train accuracy : 0.7500\n",
            "[epoch:6, iteration:80000] train loss : 0.6017 train accuracy : 0.7500\n",
            "[epoch:6, iteration:82000] train loss : 1.8519 train accuracy : 0.5000\n",
            "[epoch:6, iteration:84000] train loss : 0.3574 train accuracy : 1.0000\n",
            "[epoch:6, iteration:86000] train loss : 0.7267 train accuracy : 0.7500\n",
            "[epoch:6, iteration:87500] test_loss : 0.9840 test accuracy : 0.6642\n",
            "[epoch:7, iteration:88000] train loss : 0.7388 train accuracy : 0.7500\n",
            "[epoch:7, iteration:90000] train loss : 0.5767 train accuracy : 0.7500\n",
            "[epoch:7, iteration:92000] train loss : 0.2858 train accuracy : 1.0000\n",
            "[epoch:7, iteration:94000] train loss : 1.2443 train accuracy : 0.7500\n",
            "[epoch:7, iteration:96000] train loss : 0.6627 train accuracy : 0.7500\n",
            "[epoch:7, iteration:98000] train loss : 1.4312 train accuracy : 0.5000\n",
            "[epoch:7, iteration:100000] train loss : 0.4659 train accuracy : 0.7500\n",
            "[epoch:7, iteration:100000] test_loss : 0.9907 test accuracy : 0.6597\n",
            "[epoch:8, iteration:102000] train loss : 1.9134 train accuracy : 0.2500\n",
            "[epoch:8, iteration:104000] train loss : 2.5026 train accuracy : 0.2500\n",
            "[epoch:8, iteration:106000] train loss : 0.8693 train accuracy : 0.5000\n",
            "[epoch:8, iteration:108000] train loss : 0.2811 train accuracy : 1.0000\n",
            "[epoch:8, iteration:110000] train loss : 0.9859 train accuracy : 0.5000\n",
            "[epoch:8, iteration:112000] train loss : 1.3020 train accuracy : 0.7500\n",
            "[epoch:8, iteration:112500] test_loss : 0.9878 test accuracy : 0.6627\n",
            "[epoch:9, iteration:114000] train loss : 0.8811 train accuracy : 0.5000\n",
            "[epoch:9, iteration:116000] train loss : 1.0094 train accuracy : 0.5000\n",
            "[epoch:9, iteration:118000] train loss : 0.2048 train accuracy : 1.0000\n",
            "[epoch:9, iteration:120000] train loss : 1.3786 train accuracy : 0.5000\n",
            "[epoch:9, iteration:122000] train loss : 0.3191 train accuracy : 1.0000\n",
            "[epoch:9, iteration:124000] train loss : 0.3640 train accuracy : 1.0000\n",
            "[epoch:9, iteration:125000] test_loss : 0.9713 test accuracy : 0.6678\n",
            "[epoch:10, iteration:126000] train loss : 0.4376 train accuracy : 0.7500\n",
            "[epoch:10, iteration:128000] train loss : 0.7615 train accuracy : 0.5000\n",
            "[epoch:10, iteration:130000] train loss : 0.5730 train accuracy : 0.7500\n",
            "[epoch:10, iteration:132000] train loss : 0.9872 train accuracy : 0.7500\n",
            "[epoch:10, iteration:134000] train loss : 0.6329 train accuracy : 0.7500\n",
            "[epoch:10, iteration:136000] train loss : 1.8620 train accuracy : 0.2500\n",
            "[epoch:10, iteration:137500] test_loss : 0.9872 test accuracy : 0.6647\n",
            "[epoch:11, iteration:138000] train loss : 0.6421 train accuracy : 0.7500\n",
            "[epoch:11, iteration:140000] train loss : 2.2619 train accuracy : 0.5000\n",
            "[epoch:11, iteration:142000] train loss : 0.5487 train accuracy : 1.0000\n",
            "[epoch:11, iteration:144000] train loss : 0.6524 train accuracy : 0.7500\n",
            "[epoch:11, iteration:146000] train loss : 2.2346 train accuracy : 0.2500\n",
            "[epoch:11, iteration:148000] train loss : 0.7689 train accuracy : 0.7500\n",
            "[epoch:11, iteration:150000] train loss : 1.9282 train accuracy : 0.2500\n",
            "[epoch:11, iteration:150000] test_loss : 1.0040 test accuracy : 0.6541\n",
            "[epoch:12, iteration:152000] train loss : 1.4173 train accuracy : 0.5000\n",
            "[epoch:12, iteration:154000] train loss : 0.8984 train accuracy : 0.7500\n",
            "[epoch:12, iteration:156000] train loss : 0.3825 train accuracy : 1.0000\n",
            "[epoch:12, iteration:158000] train loss : 0.7546 train accuracy : 0.7500\n",
            "[epoch:12, iteration:160000] train loss : 1.2939 train accuracy : 0.5000\n",
            "[epoch:12, iteration:162000] train loss : 0.5863 train accuracy : 0.7500\n",
            "[epoch:12, iteration:162500] test_loss : 1.0008 test accuracy : 0.6599\n",
            "[epoch:13, iteration:164000] train loss : 1.8995 train accuracy : 0.5000\n",
            "[epoch:13, iteration:166000] train loss : 2.1784 train accuracy : 0.5000\n",
            "[epoch:13, iteration:168000] train loss : 1.8715 train accuracy : 0.2500\n",
            "[epoch:13, iteration:170000] train loss : 1.3796 train accuracy : 0.2500\n",
            "[epoch:13, iteration:172000] train loss : 1.7578 train accuracy : 0.2500\n",
            "[epoch:13, iteration:174000] train loss : 0.5522 train accuracy : 1.0000\n",
            "[epoch:13, iteration:175000] test_loss : 0.9829 test accuracy : 0.6610\n",
            "[epoch:14, iteration:176000] train loss : 0.8193 train accuracy : 0.7500\n",
            "[epoch:14, iteration:178000] train loss : 0.8443 train accuracy : 0.5000\n",
            "[epoch:14, iteration:180000] train loss : 0.6675 train accuracy : 0.7500\n",
            "[epoch:14, iteration:182000] train loss : 0.5456 train accuracy : 0.7500\n",
            "[epoch:14, iteration:184000] train loss : 0.8727 train accuracy : 0.7500\n",
            "[epoch:14, iteration:186000] train loss : 0.8362 train accuracy : 0.7500\n",
            "[epoch:14, iteration:187500] test_loss : 0.9829 test accuracy : 0.6649\n",
            "[epoch:15, iteration:188000] train loss : 0.9450 train accuracy : 0.7500\n",
            "[epoch:15, iteration:190000] train loss : 0.6293 train accuracy : 0.7500\n",
            "[epoch:15, iteration:192000] train loss : 0.2265 train accuracy : 1.0000\n",
            "[epoch:15, iteration:194000] train loss : 0.5888 train accuracy : 0.7500\n",
            "[epoch:15, iteration:196000] train loss : 1.1693 train accuracy : 0.7500\n",
            "[epoch:15, iteration:198000] train loss : 0.4462 train accuracy : 1.0000\n",
            "[epoch:15, iteration:200000] train loss : 1.1171 train accuracy : 0.7500\n",
            "[epoch:15, iteration:200000] test_loss : 0.9977 test accuracy : 0.6641\n",
            "[epoch:16, iteration:202000] train loss : 1.9800 train accuracy : 0.2500\n",
            "[epoch:16, iteration:204000] train loss : 0.1149 train accuracy : 1.0000\n",
            "[epoch:16, iteration:206000] train loss : 1.3396 train accuracy : 0.5000\n",
            "[epoch:16, iteration:208000] train loss : 1.5723 train accuracy : 0.2500\n",
            "[epoch:16, iteration:210000] train loss : 0.7460 train accuracy : 0.7500\n",
            "[epoch:16, iteration:212000] train loss : 1.7293 train accuracy : 0.5000\n",
            "[epoch:16, iteration:212500] test_loss : 0.9941 test accuracy : 0.6601\n",
            "[epoch:17, iteration:214000] train loss : 0.6104 train accuracy : 0.7500\n",
            "[epoch:17, iteration:216000] train loss : 1.0305 train accuracy : 0.5000\n",
            "[epoch:17, iteration:218000] train loss : 0.6431 train accuracy : 0.7500\n",
            "[epoch:17, iteration:220000] train loss : 0.4545 train accuracy : 1.0000\n",
            "[epoch:17, iteration:222000] train loss : 0.9430 train accuracy : 0.7500\n",
            "[epoch:17, iteration:224000] train loss : 1.5006 train accuracy : 0.5000\n",
            "[epoch:17, iteration:225000] test_loss : 0.9796 test accuracy : 0.6671\n",
            "[epoch:18, iteration:226000] train loss : 1.6650 train accuracy : 0.7500\n",
            "[epoch:18, iteration:228000] train loss : 1.3841 train accuracy : 0.5000\n",
            "[epoch:18, iteration:230000] train loss : 0.0835 train accuracy : 1.0000\n",
            "[epoch:18, iteration:232000] train loss : 1.0150 train accuracy : 0.7500\n",
            "[epoch:18, iteration:234000] train loss : 1.3278 train accuracy : 0.5000\n",
            "[epoch:18, iteration:236000] train loss : 0.7936 train accuracy : 0.5000\n",
            "[epoch:18, iteration:237500] test_loss : 0.9782 test accuracy : 0.6650\n",
            "[epoch:19, iteration:238000] train loss : 0.7096 train accuracy : 0.5000\n",
            "[epoch:19, iteration:240000] train loss : 0.7990 train accuracy : 0.7500\n",
            "[epoch:19, iteration:242000] train loss : 0.7017 train accuracy : 0.7500\n",
            "[epoch:19, iteration:244000] train loss : 0.1822 train accuracy : 1.0000\n",
            "[epoch:19, iteration:246000] train loss : 0.6962 train accuracy : 0.7500\n",
            "[epoch:19, iteration:248000] train loss : 1.0396 train accuracy : 0.7500\n",
            "[epoch:19, iteration:250000] train loss : 0.1525 train accuracy : 1.0000\n",
            "[epoch:19, iteration:250000] test_loss : 0.9756 test accuracy : 0.6632\n"
          ],
          "name": "stdout"
        }
      ]
    },
    {
      "cell_type": "markdown",
      "metadata": {
        "id": "ECu3yS0OvfoR",
        "colab_type": "text"
      },
      "source": [
        "## Step 9: Visualize and analyze the results"
      ]
    },
    {
      "cell_type": "code",
      "metadata": {
        "id": "G89sqVp-vLRy",
        "colab_type": "code",
        "outputId": "9713126a-e0a4-443d-a136-389a433e0400",
        "colab": {
          "base_uri": "https://localhost:8080/",
          "height": 287
        }
      },
      "source": [
        "import matplotlib.pyplot as plt\n",
        "\n",
        "plt.plot(train_losses, label='train loss')\n",
        "plt.plot(test_losses, label='test loss')\n",
        "plt.legend()\n",
        "\n",
        "if not training_process:\n",
        "  # Re-load trained model\n",
        "  my_classifier.load_state_dict(ckpt['my_classifier'])\n",
        "  optimizer.load_state_dict(ckpt['optimizer'])\n",
        "\n",
        "  # Testing\n",
        "  n = 0.\n",
        "  test_loss = 0.\n",
        "  test_acc = 0.\n",
        "  my_classifier.eval()\n",
        "  for test_inputs, test_labels in test_dataloader:\n",
        "    test_inputs = test_inputs.to(device)\n",
        "    test_labels = test_labels.to(device)\n",
        "\n",
        "    logits = my_classifier(test_inputs)\n",
        "    test_loss += F.cross_entropy(logits, test_labels, reduction='sum').item()\n",
        "    test_acc += (logits.argmax(dim=1) == test_labels).float().sum().item()\n",
        "    n += test_inputs.size(0)\n",
        "\n",
        "  test_loss /= n\n",
        "  test_acc /= n\n",
        "  print('Test_loss : {:.4f}, Test accuracy : {:.4f}'.format(test_loss, test_acc))"
      ],
      "execution_count": 0,
      "outputs": [
        {
          "output_type": "stream",
          "text": [
            "Test_loss : 0.9796, Test accuracy : 0.6688\n"
          ],
          "name": "stdout"
        },
        {
          "output_type": "display_data",
          "data": {
            "image/png": "[encoded data removed]",
            "text/plain": [
              "<Figure size 432x288 with 1 Axes>"
            ]
          },
          "metadata": {
            "tags": []
          }
        }
      ]
    },
    {
      "cell_type": "code",
      "metadata": {
        "id": "KHjD9SGrvhzc",
        "colab_type": "code",
        "outputId": "212d9c34-61b7-4806-81da-69c863211321",
        "colab": {
          "base_uri": "https://localhost:8080/",
          "height": 305
        }
      },
      "source": [
        "import random\n",
        "\n",
        "import matplotlib.pyplot as plt\n",
        "import numpy as np\n",
        "\n",
        "my_classifier.eval()\n",
        "\n",
        "num_test_samples = len(test_dataset)\n",
        "random_idx = random.randint(0, num_test_samples)\n",
        "\n",
        "test_input, test_label = test_dataset.__getitem__(random_idx)\n",
        "test_prediction = F.softmax(my_classifier(test_input.unsqueeze(0).to(device)), dim=1).argmax().item()\n",
        "print('label : %s' % classes[test_label])\n",
        "print('prediction : %s' % classes[test_prediction])\n",
        "\n",
        "# functions to show an image\n",
        "def imshow(img):\n",
        "    img = img / 2 + 0.5     # unnormalize\n",
        "    npimg = img.numpy()\n",
        "    plt.imshow(np.transpose(npimg, (1, 2, 0)))\n",
        "\n",
        "# show images\n",
        "imshow(torchvision.utils.make_grid(test_input))"
      ],
      "execution_count": 0,
      "outputs": [
        {
          "output_type": "stream",
          "text": [
            "label : deer\n",
            "prediction : deer\n"
          ],
          "name": "stdout"
        },
        {
          "output_type": "display_data",
          "data": {
            "image/png": "[encoded data removed]",
            "text/plain": [
              "<Figure size 432x288 with 1 Axes>"
            ]
          },
          "metadata": {
            "tags": []
          }
        }
      ]
    },
    {
      "cell_type": "markdown",
      "metadata": {
        "id": "BwcY8z_C2QLA",
        "colab_type": "text"
      },
      "source": [
        "# <font color=\"blue\"> Discussion and Analysis </font>"
      ]
    },
    {
      "cell_type": "markdown",
      "metadata": {
        "id": "v2W0ZtF82Xyb",
        "colab_type": "text"
      },
      "source": [
        "<font color=\"blue\"> Fill here with your discussion </font>"
      ]
    }
  ]
}